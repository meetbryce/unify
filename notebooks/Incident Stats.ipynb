{
 "cells": [
  {
   "cell_type": "markdown",
   "id": "583081c2-b7a3-4fc5-b3a1-72d47e569816",
   "metadata": {},
   "source": [
    "## Incident stats"
   ]
  },
  {
   "cell_type": "markdown",
   "id": "0310dec9-bc30-4e85-81f2-82588bfc0716",
   "metadata": {},
   "source": [
    "Incidents are recorded in the \"Incidents\" project in JIRA. P1s are listed with priority = 'Emergency' and \n",
    "P2s are listed with priority = 'High'"
   ]
  },
  {
   "cell_type": "markdown",
   "id": "000b4e33-c8e0-4229-baf8-7a9b8f224dab",
   "metadata": {},
   "source": [
    "Count of P1s by month this year"
   ]
  },
  {
   "cell_type": "code",
   "execution_count": 1,
   "id": "675f4ad3-4c47-4ba1-adeb-1dc334f7439a",
   "metadata": {},
   "outputs": [
    {
     "name": "stdout",
     "output_type": "stream",
     "text": [
      "8 rows"
     ]
    },
    {
     "data": {
      "text/html": [
       "<table border=\"1\" class=\"dataframe\">\n",
       "  <thead>\n",
       "    <tr style=\"text-align: right;\">\n",
       "      <th>count</th>\n",
       "      <th>month</th>\n",
       "    </tr>\n",
       "  </thead>\n",
       "  <tbody>\n",
       "    <tr>\n",
       "      <td>1</td>\n",
       "      <td>2022-08-01</td>\n",
       "    </tr>\n",
       "    <tr>\n",
       "      <td>1</td>\n",
       "      <td>2022-07-01</td>\n",
       "    </tr>\n",
       "    <tr>\n",
       "      <td>3</td>\n",
       "      <td>2022-06-01</td>\n",
       "    </tr>\n",
       "    <tr>\n",
       "      <td>2</td>\n",
       "      <td>2022-05-01</td>\n",
       "    </tr>\n",
       "    <tr>\n",
       "      <td>3</td>\n",
       "      <td>2022-04-01</td>\n",
       "    </tr>\n",
       "    <tr>\n",
       "      <td>4</td>\n",
       "      <td>2022-03-01</td>\n",
       "    </tr>\n",
       "    <tr>\n",
       "      <td>6</td>\n",
       "      <td>2022-02-01</td>\n",
       "    </tr>\n",
       "    <tr>\n",
       "      <td>3</td>\n",
       "      <td>2022-01-01</td>\n",
       "    </tr>\n",
       "  </tbody>\n",
       "</table>"
      ],
      "text/plain": [
       " count      month\n",
       "     1 2022-08-01\n",
       "     1 2022-07-01\n",
       "     3 2022-06-01\n",
       "     2 2022-05-01\n",
       "     3 2022-04-01\n",
       "     4 2022-03-01\n",
       "     6 2022-02-01\n",
       "     3 2022-01-01"
      ]
     },
     "metadata": {},
     "output_type": "display_data",
     "source": "kernel"
    }
   ],
   "source": [
    "$p1s = select count(*), date_trunc('month',cast(fields_created as DATE)) as month\n",
    "  from \n",
    "    jira.issues\n",
    "  where \n",
    "    key like 'INC-%'\n",
    "    and fields_priority_name = 'Emergency'\n",
    "    and fields_created >= '2022-01-01'\n",
    "  group by all"
   ]
  },
  {
   "cell_type": "markdown",
   "id": "c429832e-9417-4b91-b27c-9d1921c2d4b7",
   "metadata": {},
   "source": [
    "Count of P2s"
   ]
  },
  {
   "cell_type": "code",
   "execution_count": 2,
   "id": "ab9725a2-3e97-4ac5-8cbf-c258a462017a",
   "metadata": {},
   "outputs": [
    {
     "name": "stdout",
     "output_type": "stream",
     "text": [
      "4 rows"
     ]
    },
    {
     "data": {
      "text/html": [
       "<table border=\"1\" class=\"dataframe\">\n",
       "  <thead>\n",
       "    <tr style=\"text-align: right;\">\n",
       "      <th>count</th>\n",
       "      <th>month</th>\n",
       "    </tr>\n",
       "  </thead>\n",
       "  <tbody>\n",
       "    <tr>\n",
       "      <td>1</td>\n",
       "      <td>2022-07-01</td>\n",
       "    </tr>\n",
       "    <tr>\n",
       "      <td>1</td>\n",
       "      <td>2022-04-01</td>\n",
       "    </tr>\n",
       "    <tr>\n",
       "      <td>1</td>\n",
       "      <td>2022-02-01</td>\n",
       "    </tr>\n",
       "    <tr>\n",
       "      <td>2</td>\n",
       "      <td>2022-01-01</td>\n",
       "    </tr>\n",
       "  </tbody>\n",
       "</table>"
      ],
      "text/plain": [
       " count      month\n",
       "     1 2022-07-01\n",
       "     1 2022-04-01\n",
       "     1 2022-02-01\n",
       "     2 2022-01-01"
      ]
     },
     "metadata": {},
     "output_type": "display_data",
     "source": "kernel"
    }
   ],
   "source": [
    "$p2s = select count(*), date_trunc('month',cast(fields_created as DATE)) as month\n",
    "  from \n",
    "    jira.issues\n",
    "  where \n",
    "    key like 'INC-%'\n",
    "    and fields_priority_name = 'High'\n",
    "    and fields_created >= '2022-01-01'\n",
    "  group by all"
   ]
  },
  {
   "cell_type": "code",
   "execution_count": 3,
   "id": "9009ca91-7758-4801-b1b6-a7714a030e9c",
   "metadata": {},
   "outputs": [
    {
     "name": "stdout",
     "output_type": "stream",
     "text": [
      "8 rows"
     ]
    },
    {
     "data": {
      "text/html": [
       "<table border=\"1\" class=\"dataframe\">\n",
       "  <thead>\n",
       "    <tr style=\"text-align: right;\">\n",
       "      <th>p1</th>\n",
       "      <th>p2</th>\n",
       "      <th>month</th>\n",
       "    </tr>\n",
       "  </thead>\n",
       "  <tbody>\n",
       "    <tr>\n",
       "      <td>1</td>\n",
       "      <td>1.0</td>\n",
       "      <td>2022-07-01</td>\n",
       "    </tr>\n",
       "    <tr>\n",
       "      <td>3</td>\n",
       "      <td>1.0</td>\n",
       "      <td>2022-04-01</td>\n",
       "    </tr>\n",
       "    <tr>\n",
       "      <td>6</td>\n",
       "      <td>1.0</td>\n",
       "      <td>2022-02-01</td>\n",
       "    </tr>\n",
       "    <tr>\n",
       "      <td>3</td>\n",
       "      <td>2.0</td>\n",
       "      <td>2022-01-01</td>\n",
       "    </tr>\n",
       "    <tr>\n",
       "      <td>1</td>\n",
       "      <td>NaN</td>\n",
       "      <td>2022-08-01</td>\n",
       "    </tr>\n",
       "    <tr>\n",
       "      <td>3</td>\n",
       "      <td>NaN</td>\n",
       "      <td>2022-06-01</td>\n",
       "    </tr>\n",
       "    <tr>\n",
       "      <td>2</td>\n",
       "      <td>NaN</td>\n",
       "      <td>2022-05-01</td>\n",
       "    </tr>\n",
       "    <tr>\n",
       "      <td>4</td>\n",
       "      <td>NaN</td>\n",
       "      <td>2022-03-01</td>\n",
       "    </tr>\n",
       "  </tbody>\n",
       "</table>"
      ],
      "text/plain": [
       " p1  p2      month\n",
       "  1 1.0 2022-07-01\n",
       "  3 1.0 2022-04-01\n",
       "  6 1.0 2022-02-01\n",
       "  3 2.0 2022-01-01\n",
       "  1 NaN 2022-08-01\n",
       "  3 NaN 2022-06-01\n",
       "  2 NaN 2022-05-01\n",
       "  4 NaN 2022-03-01"
      ]
     },
     "metadata": {},
     "output_type": "display_data",
     "source": "kernel"
    }
   ],
   "source": [
    "select $p1s.count as p1, $p2s.count as p2, $p1s.month from $p1s\n",
    "  left outer join $p2s on $p2s.month = $p1s.month"
   ]
  },
  {
   "cell_type": "code",
   "execution_count": 6,
   "id": "9c984a49-87f2-4f10-8347-d350099309db",
   "metadata": {},
   "outputs": [
    {
     "data": {
      "image/png": "iVBORw0KGgoAAAANSUhEUgAAA%2BgAAAMgCAYAAACwGEg9AAAAOXRFWHRTb2Z0d2FyZQBNYXRwbG90bGliIHZlcnNpb24zLjUuMiwgaHR0cHM6Ly9tYXRwbG90bGliLm9yZy8qNh9FAAAACXBIWXMAAA9hAAAPYQGoP6dpAABTX0lEQVR4nO3dd5xU9b0//vcusAsoTaUqRQQLgmIUDGoIKspXwEQTo9FEUaOJYizhWpNwBVPAkqBRgxVL1GhMbDdIE0VuIohiVOxYKBYgKE3EFZb5/ZFf9t69gMrO7M7hw/P5eOzjwZwzc%2BbNvkwOrzllSnK5XC4AAACAoiot9gAAAACAgg4AAACZoKADAABABijoAAAAkAEKOgAAAGSAgg4AAAAZoKADAABABijoAAAAkAEKOgAAAGSAgg4AAAAZoKADAABABijoAAAAkAEKOgAAAGSAgg4AW5h58%2BZFSUlJXHXVVbX%2BXiNGjIiSkpIav/7fs95%2B%2B%2B2FGwoAEqWgA7BVmDNnThxzzDHRsWPHaNiwYey4445x2GGHxbXXXlvs0ZJwzz33xNVXX13sMQBgi1a/2AMAQG176qmn4uCDD44OHTrE6aefHm3atImFCxfGzJkz45prromzzz672CNu8e6555546aWX4rzzzqu2vGPHjrFmzZpo0KBBcQYDgC2Igg5A8n71q19Fs2bN4plnnonmzZtXW7dkyZLiDLWVKCkpiYYNGxZ7DADYIjjFHYDkvfXWW7HnnntuUM4jIlq1alXt8bp16%2BIXv/hF7LLLLlFeXh6dOnWKn/70p1FRUVHteZ06dYrBgwfHtGnTYr/99otGjRpFjx49Ytq0aRER8cADD0SPHj2iYcOGse%2B%2B%2B8Y//vGPDd77tddei2OOOSa22267aNiwYey3337xyCOPbNbfbcyYMdGxY8do1KhRfP3rX4%2BXXnqp2voXX3wxTj755OjcuXM0bNgw2rRpE6eeemp8%2BOGHG2zrb3/7W/Tq1SsaNmwYu%2ByyS9x4441faoZ%2B/frF%2BPHjY/78%2BVFSUhIlJSXRqVOniNj4Negnn3xybLvttrFgwYIYPHhwbLvttrHjjjvG9ddfHxH/uhzhkEMOiW222SY6duwY99xzzwbvuXz58jjvvPOiffv2UV5eHl26dInLL7881q9fX%2B159957b%2By7777RpEmTaNq0afTo0SOuueaaL/X3AoC6VpLL5XLFHgIAatOAAQNixowZ8dRTT0X37t0/97knn3xy3HHHHXHMMcfEwQcfHE8//XTceeedcdRRR8WDDz5Y9bxOnTpFw4YNY%2BXKlfGjH/0omjVrFldddVWsWLEibrjhhvjpT38aQ4cOjYiIUaNGRcuWLeP111%2BP0tJ/fTb%2B8ssvx4EHHhg77rhjDBkyJLbZZpv405/%2BFP/93/8df/nLX%2BLoo4/e5Izz5s2LnXfeOXr06BGrVq2KM888Mz799NO45pprol69ejFnzpxo3bp1RET85je/iYcffjgOO%2BywaNOmTbz88stx0003RY8ePWLmzJlVN4CbM2dO7L///tGyZcs488wzY926dXHddddF69at48UXX4zP%2B%2BfClClT4sILL4x33303xowZExER2267bRx11FFVs952221x8sknV/2O77vvvujcuXP07ds3evToEXfffXc89dRTcdttt8XPfvaz%2BN73vhcdOnSIG264IV577bWYO3du7LzzzhER8cknn0SfPn3ivffeix/96EfRoUOHeOqpp%2BIPf/hDnHPOOVXXwk%2BZMiUOP/zwOPTQQ%2BNb3/pWRES8%2BuqrsXjx4vjTn/70uf8dAEBR5AAgcZMnT87Vq1cvV69evVyfPn1yF154YW7SpEm5zz77rNrznn/%2B%2BVxE5E477bRqy88///xcROQef/zxqmUdO3bMRUTuqaeeqlo2adKkXETkGjVqlJs/f37V8htvvDEXEbknnniiatmhhx6a69GjR%2B7TTz%2BtWrZ%2B/frcAQcckOvatevn/n3eeeedqvd59913q5Y//fTTuYjI/eQnP6la9sknn2zw%2Bj/%2B8Y%2B5iMhNnz69atlRRx2Va9iwYbW5X3nllVy9evVyX%2BafC4MGDcp17Nhxk7PedtttVcuGDBmSi4jcr3/966ply5YtyzVq1ChXUlKSu/fee6uWv/baa7mIyF166aVVy37xi1/kttlmm9wbb7xR7b0uvvjiXL169XILFizI5XK53Lnnnptr2rRpbt26dV84PwBkgVPcAUjeYYcdFjNmzIhvfOMb8cILL8QVV1wRAwYMiB133LHaKeWPPvpoREQMGzas2uv/4z/%2BIyIixo8fX215t27dok%2BfPlWP999//4iIOOSQQ6JDhw4bLH/77bcjIuKjjz6Kxx9/PI499thYtWpVLF26NJYuXRoffvhhDBgwIObOnRvvvffeF/69jjrqqNhxxx2rHvfu3Tv233//qr9HRESjRo2q/vzpp5/G0qVL46tf/WpERDz33HMREVFZWRmTJk2Ko446qtrce%2ByxRwwYMOAL56ip0047rerPzZs3j9122y222WabOPbYY6uW77bbbtG8efOq311ExP333x9f%2B9rXokWLFlW/u6VLl0b//v2jsrIypk%2BfXrXN1atXx5QpU2rt7wAAhaSgA7BV6NWrVzzwwAOxbNmymDVrVlxyySWxatWqOOaYY%2BKVV16JiIj58%2BdHaWlpdOnSpdpr27RpE82bN4/58%2BdXW/6/y2xERLNmzSIion379htdvmzZsoiIePPNNyOXy8Xw4cOjZcuW1X4uvfTSiPhyN6/r2rXrBst23XXXmDdvXtXjjz76KM4999xo3bp1NGrUKFq2bFl1qviKFSsiIuKf//xnrFmzZqPb22233b5wjppo2LBhtGzZstqyZs2axU477bTB9643a9as6ncXETF37tyYOHHiBr%2B7/v37R8T//O6GDh0au%2B66axxxxBGx0047xamnnhoTJ06slb8PABSCu7gDsFUpKyuLXr16Ra9evWLXXXeNU045Je6///6qYhwRGxTETalXr95mLc/9/9dx//tGZueff/4mj1D/3w8JaurYY4%2BNp556Ki644ILo2bNnbLvttrF%2B/fr4f//v/21wQ7W6VNPfXcS/fn%2BHHXZYXHjhhRt97q677hoR/7oB4PPPPx%2BTJk2KCRMmxIQJE%2BK2226Lk046Ke644448/wYAUHgKOgBbrf322y8iIj744IOI%2BNd3dq9fvz7mzp0be%2ByxR9XzFi9eHMuXL4%2BOHTsW5H07d%2B4cERENGjSoOupbE3Pnzt1g2RtvvFF1B/Vly5bF1KlTY%2BTIkfGf//mfm3xdy5Yto1GjRhvd3uuvv/6lZvmyH2oUwi677BIff/zxl/rdlZWVxZFHHhlHHnlkrF%2B/PoYOHRo33nhjDB8%2BvGAfggBAoTjFHYDkPfHEExu9C/m/r9X%2B92ncAwcOjIiougv4v/32t7%2BNiIhBgwYVZJ5WrVpFv3794sYbb6z6cOB/%2B%2Bc///mltvPQQw9Vu1Z91qxZ8fTTT8cRRxwREf9zNPr//t3/79%2BvXr16MWDAgHjooYdiwYIFVctfffXVmDRp0peaZZtttqk6Zb62HXvssTFjxoyNzrZ8%2BfJYt25dRMQGXyVXWloae%2B21V0TEBl%2BbBwBZ4Ag6AMk7%2B%2Byz45NPPomjjz46dt999/jss8/iqaeeivvuuy86deoUp5xySkRE7L333jFkyJC46aabYvny5fH1r389Zs2aFXfccUccddRRcfDBBxdspuuvvz4OOuig6NGjR5x%2B%2BunRuXPnWLx4ccyYMSPefffdeOGFF75wG126dImDDjoozjzzzKioqIirr746tt9%2B%2B6pTv5s2bRp9%2B/aNK664ItauXRs77rhjTJ48Od55550NtjVy5MiYOHFifO1rX4uhQ4fGunXr4tprr40999wzXnzxxS%2BcZd9994377rsvhg0bFr169Yptt902jjzyyM3/xXwJF1xwQTzyyCMxePDgOPnkk2PfffeN1atXx5w5c%2BLPf/5zzJs3L3bYYYc47bTT4qOPPopDDjkkdtppp5g/f35ce%2B210bNnz2pnSABAVijoACTvqquuivvvvz8effTRuOmmm%2BKzzz6LDh06xNChQ%2BPnP/95NG/evOq5t9xyS3Tu3Dluv/32ePDBB6NNmzZxySWXVLtGvRC6desWzz77bIwcOTJuv/32%2BPDDD6NVq1axzz77VDsd/fOcdNJJUVpaGldffXUsWbIkevfuHdddd120bdu26jn33HNPnH322XH99ddHLpeLww8/PCZMmBDt2rWrtq299torJk2aFMOGDYv//M//jJ122ilGjhwZH3zwwZcq6EOHDo3nn38%2BbrvtthgzZkx07Nix1gp648aN48knn4xf//rXcf/998edd94ZTZs2jV133TVGjhxZdVO%2B73//%2B3HTTTfF73//%2B1i%2BfHm0adMmjjvuuBgxYkTV99EDQJaU5DZ2zh8AAABQp3x8DAAAABmgoAMAAEAGKOgAAACQAQo6AAAAZICCDgAAABmgoAMAAEAGZOJ70NevXx/vv/9%2BNGnSJEpKSoo9DgAAAGy2XC4Xq1atinbt2kVp6eYfD89EQX///fejffv2xR4DAAAA8rZw4cLYaaedNvt1mSjoTZo0iYh//SWaNm1a5GkAAABg861cuTLat29f1XE3VyYK%2Br9Pa2/atKmCDgAAwBatppduu0kcAAAAZICCDgAAABmgoAMAAEAGZOIadAAAALKvsrIy1q5dW%2BwxiqZBgwZRr169Wtu%2Bgg4AAMDnyuVysWjRoli%2BfHmxRym65s2bR5s2bWp8I7jPo6ADAADwuf5dzlu1ahWNGzeulXKadblcLj755JNYsmRJRES0bdu24O%2BhoAMAALBJlZWVVeV8%2B%2B23L/Y4RdWoUaOIiFiyZEm0atWq4Ke7u0kcAAAAm/Tva84bN25c5Emy4d%2B/h9q4Fl9BBwAA4Attjae1b0xt/h4UdAAAAMgABR0AAAAywE3iAAAAqJFOF4%2Bv0/ebN3pQQbf3wAMPxA033BCzZ8%2BOjz76KP7xj39Ez549C/oem8MRdAAAALZKq1evjoMOOiguv/zyYo8SEY6gAwAAkKh%2B/fpF9%2B7dIyLiD3/4QzRo0CDOPPPMuOyyy6KkpCROPPHEiIiYN29eEaf8H46gAwAAkKw77rgj6tevH7NmzYprrrkmfvvb38Ytt9xS7LE2yhF0AAAAktW%2BffsYM2ZMlJSUxG677RZz5syJMWPGxOmnn17s0TbgCDoAAADJ%2BupXv1rtu8v79OkTc%2BfOjcrKyiJOtXEKOgAAAGSAgg4AAECynn766WqPZ86cGV27do169eoVaaJNcw06AAAAyVqwYEEMGzYsfvSjH8Vzzz0X1157bfzmN7%2BJiIiPPvooFixYEO%2B//35ERLz%2B%2BusREdGmTZto06ZNnc%2Ba9xH0Tp06RUlJyQY/Z511ViHmAwAAgBo76aSTYs2aNdG7d%2B8466yz4txzz40f/vCHERHxyCOPxD777BODBg2KiIjvfve7sc8%2B%2B8QNN9xQlFnzPoL%2BzDPPVLu4/qWXXorDDjssvvOd7%2BS7aQAAADJs3uhBxR7hCzVo0CCuvvrqGDt27AbrTj755Dj55JPrfqhNyLugt2zZstrj0aNHxy677BJf//rX8900AAAAbDUKepO4zz77LO6666449dRTq93GHgAAAPh8Bb1J3EMPPRTLly//wlMEKioqoqKiourxypUrCzkGAAAAxLRp04o9wmYpaEG/9dZb44gjjoh27dp97vNGjRoVI0eOLORbA1uLEc2KPUHdGrGi2BMAAFBHCnaK%2B/z58%2BOxxx6L00477Qufe8kll8SKFSuqfhYuXFioMQAAAGCLVLAj6Lfddlu0atWq6vb0n6e8vDzKy8sL9dYAAACwxSvIEfT169fHbbfdFkOGDIn69Qt61jwAAABsFQpS0B977LFYsGBBnHrqqYXYHAAAAGx1CnK4%2B/DDD49cLleITQEAAMBWqaDfgw4AAADUjAvGAQAAqJm6/grcAn4F7dq1a%2BPnP/95PProo/H2229Hs2bNon///jF69Ogv/Orw2uIIOgAAAFudTz75JJ577rkYPnx4PPfcc/HAAw/E66%2B/Ht/4xjeKNpMj6AAAACSpX79%2B0b1794iI%2BMMf/hANGjSIM888My677LJo1qxZTJkypdrzr7vuuujdu3csWLAgOnToUOfzOoIOAABAsu64446oX79%2BzJo1K6655pr47W9/G7fccstGn7tixYooKSmJ5s2b1%2B2Q/z9H0AEAAEhW%2B/btY8yYMVFSUhK77bZbzJkzJ8aMGROnn356ted9%2BumncdFFF8Xxxx8fTZs2LcqsjqADAACQrK9%2B9atRUlJS9bhPnz4xd%2B7cqKysrFq2du3aOPbYYyOXy8XYsWOLMWZEOIIOAADAVuzf5Xz%2B/Pnx%2BOOPF%2B3oeYSCDgAAQMKefvrpao9nzpwZXbt2jXr16lWV87lz58YTTzwR22%2B/fZGm/BenuAMAAJCsBQsWxLBhw%2BL111%2BPP/7xj3HttdfGueeeG2vXro1jjjkmnn322bj77rujsrIyFi1aFIsWLYrPPvusKLM6gg4AAECyTjrppFizZk307t076tWrF%2Beee2788Ic/jPnz58cjjzwSERE9e/as9ponnngi%2BvXrV%2BezKugAAADUzIgVxZ7gCzVo0CCuvvrqDW7%2B1qlTp8jlckWaauOc4g4AAAAZoKADAABABjjFHQAAgCRNmzat2CNsFkfQAQAAIAMUdAAAAMgABR0AAIAvtH79%2BmKPkAm1%2BXtwDToAAACbVFZWFqWlpfH%2B%2B%2B9Hy5Yto6ysLEpKSoo9Vp3L5XLx2WefxT//%2Bc8oLS2NsrKygr%2BHgg4AAMAmlZaWxs477xwffPBBvP/%2B%2B8Uep%2BgaN24cHTp0iNLSwp%2BQrqADAADwucrKyqJDhw6xbt26qKysLPY4RVOvXr2oX79%2BrZ1BoKADAADwhUpKSqJBgwbRoEGDYo%2BSLDeJAwAAgAxQ0AEAACADFHQAAADIAAUdAAAAMkBBBwAAgAxQ0AEAACADFHQAAADIAAUdAAAAMkBBBwAAgAxQ0AEAACADFHQAAADIAAUdAAAAMkBBBwAAgAxQ0AEAACADFHQAAADIAAUdAAAAMkBBBwAAgAxQ0AEAACADFHQAAADIAAUdAAAAMkBBBwAAgAxQ0AEAACADFHQAAADIAAUdAAAAMkBBBwAAgAxQ0AEAACADFHQAAADIAAUdAAAAMkBBBwAAgAxQ0AEAACADFHQAAADIAAUdAAAAMkBBBwAAgAxQ0AEAACADFHQAAADIAAUdAAAAMkBBBwAAgAxQ0AEAACADFHQAAADIAAUdAAAAMkBBBwAAgAxQ0AEAACADFHQAAADIAAUdAAAAMkBBBwAAgAwoSEF/77334vvf/35sv/320ahRo%2BjRo0c8%2B%2Byzhdg0AAAAbBXq57uBZcuWxYEHHhgHH3xwTJgwIVq2bBlz586NFi1aFGI%2BAAAA2CrkXdAvv/zyaN%2B%2Bfdx2221Vy3beeed8NwsAAABblbxPcX/kkUdiv/32i%2B985zvRqlWr2GeffeLmm2/%2B3NdUVFTEypUrq/0AAADA1izvI%2Bhvv/12jB07NoYNGxY//elP45lnnolzzjknysrKYsiQIRt9zahRo2LkyJH5vjWwFer06T3FHqFOzSv2AAAA1JmSXC6Xy2cDZWVlsd9%2B%2B8VTTz1Vteycc86JZ555JmbMmLHR11RUVERFRUXV45UrV0b79u1jxYoV0bRp03zGARLX6eLxxR6hTs0bPajYIwAA8CWtXLkymjVrVuNum/cp7m3bto1u3bpVW7bHHnvEggULNvma8vLyaNq0abUfAAAA2JrlXdAPPPDAeP3116ste%2BONN6Jjx475bhoAAAC2GnkX9J/85Ccxc%2BbM%2BPWvfx1vvvlm3HPPPXHTTTfFWWedVYj5AAAAYKuQd0Hv1atXPPjgg/HHP/4xunfvHr/4xS/i6quvju9973uFmA8AAAC2CnnfxT0iYvDgwTF48OBCbAoAAAC2SnkfQQcAAADyp6ADAABABijoAAAAkAEKOgAAAGSAgg4AAAAZoKADAABABijoAAAAkAEKOgAAAGSAgg4AAAAZoKADAABABijoAAAAkAEKOgAAAGSAgg4AAAAZoKADAABABijoAAAAkAEKOgAAAGSAgg4AAAAZoKADAABABijoAAAAkAEKOgAAAGSAgg4AAAAZoKADAABABijoAAAAkAEKOgAAAGSAgg4AAAAZoKADAABABijoAAAAkAEKOgAAAGSAgg4AAAAZoKADAABABijoAAAAkAEKOgAAAGSAgg4AAAAZoKADAABABijoAAAAkAEKOgAAAGSAgg4AAAAZoKADAABABijoAAAAkAEKOgAAAGSAgg4AAAAZoKADAABABijoAAAAkAEKOgAAAGSAgg4AAAAZoKADAABABijoAAAAkAEKOgAAAGSAgg4AAAAZoKADAABABijoAAAAkAEKOgAAAGSAgg4AAAAZoKADAABABijoAAAAkAEKOgAAAGSAgg4AAAAZoKADAABABijoAAAAkAEKOgAAAGSAgg4AAAAZoKADAABABijoAAAAkAEKOgAAAGSAgg4AAAAZoKADAABABijoAAAAkAF5F/QRI0ZESUlJtZ/dd9%2B9ELMBAADAVqN%2BITay5557xmOPPfY/G61fkM0CAADAVqMgTbp%2B/frRpk2bQmwKAAAAtkoFuQZ97ty50a5du%2BjcuXN873vfiwULFnzu8ysqKmLlypXVfgAAAGBrlvcR9P333z9uv/322G233eKDDz6IkSNHxte%2B9rV46aWXokmTJht9zahRo2LkyJH5vjUAKRnRrNgT1K0RK4o9AQCQMXkfQT/iiCPiO9/5Tuy1114xYMCAePTRR2P58uXxpz/9aZOvueSSS2LFihVVPwsXLsx3DAAAANiiFfxubs2bN49dd9013nzzzU0%2Bp7y8PMrLywv91gAAALDFKvj3oH/88cfx1ltvRdu2bQu9aQAAAEhW3gX9/PPPjyeffDLmzZsXTz31VBx99NFRr169OP744wsxHwAAAGwV8j7F/d13343jjz8%2BPvzww2jZsmUcdNBBMXPmzGjZsmUh5gMAAICtQt4F/d577y3EHAAAALBVK/g16AAAAMDmU9ABAAAgAxR0AAAAyAAFHQAAADJAQQcAAIAMUNABAAAgAxR0AAAAyAAFHQAAADJAQQcAAIAMUNABAAAgAxR0AAAAyAAFHQAAADJAQQcAAIAMUNABAAAgAxR0AAAAyAAFHQAAADJAQQcAAIAMUNABAAAgAxR0AAAAyAAFHQAAADJAQQcAAIAMUNABAAAgAxR0AAAAyAAFHQAAADJAQQcAAIAMUNABAAAgAxR0AAAAyAAFHQAAADJAQQcAAIAMUNABAAAgAxR0AAAAyAAFHQAAADJAQQcAAIAMUNABAAAgAxR0AAAAyAAFHQAAADJAQQcAAIAMUNABAAAgAxR0AAAAyAAFHQAAADJAQQcAAIAMUNABAAAgAxR0AAAAyAAFHQAAADJAQQcAAIAMUNABAAAgAxR0AAAAyAAFHQAAADJAQQcAAIAMUNABAAAgAxR0AAAAyAAFHQAAADJAQQcAAIAMUNABAAAgAxR0AAAAyAAFHQAAADJAQQcAAIAMUNABAAAgAxR0AAAAyAAFHQAAADJAQQcAAIAMUNABAAAgAxR0AAAAyAAFHQAAADJAQQcAAIAMUNABAAAgAwpe0EePHh0lJSVx3nnnFXrTAAAAkKyCFvRnnnkmbrzxxthrr70KuVkAAABIXsEK%2Bscffxzf%2B9734uabb44WLVoUarMAAACwVShYQT/rrLNi0KBB0b9//0JtEgAAALYa9QuxkXvvvTeee%2B65eOaZZ77U8ysqKqKioqLq8cqVKwsxBgAAAGyx8i7oCxcujHPPPTemTJkSDRs2/FKvGTVqVIwcOTLft4ZNG9Gs2BPUrRErij0BAABbgE4Xjy/2CHVm3uhBxR5hs%2BV9ivvs2bNjyZIl8ZWvfCXq168f9evXjyeffDJ%2B97vfRf369aOysnKD11xyySWxYsWKqp%2BFCxfmOwYAAABs0fI%2Bgn7ooYfGnDlzqi075ZRTYvfdd4%2BLLroo6tWrt8FrysvLo7y8PN%2B3BgAAgGTkXdCbNGkS3bt3r7Zsm222ie23336D5QAAAMDGFfR70AEAAICaKchd3P%2BvadOm1cZmAQAAIFmOoAMAAEAGKOgAAACQAQo6AAAAZICCDgAAABmgoAMAAEAGKOgAAACQAQo6AAAAZICCDgAAABmgoAMAAEAGKOgAAACQAQo6AAAAZICCDgAAABmgoAMAAEAGKOgAAACQAQo6AAAAZICCDgAAABmgoAMAAEAGKOgAAACQAQo6AAAAZICCDgAAABmgoAMAAEAGKOgAAACQAQo6AAAAZICCDgAAABmgoAMAAEAGKOgAAACQAQo6AAAAZICCDgAAABmgoAMAAEAGKOgAAACQAQo6AAAAZICCDgAAABmgoAMAAEAGKOgAAACQAQo6AAAAZICCDgAAABmgoAMAAEAGKOgAAACQAQo6AAAAZICCDgAAABmgoAMAAEAGKOgAAACQAQo6AAAAZICCDgAAABmgoAMAAEAGKOgAAACQAQo6AAAAZICCDgAAABmgoAMAAEAGKOgAAACQAQo6AAAAZICCDgAAABmgoAMAAEAGKOgAAACQAQo6AAAAZICCDgAAABmgoAMAAEAGKOgAAACQAQo6AAAAZICCDgAAABmgoAMAAEAGKOgAAACQAQo6AAAAZICCDgAAABmgoAMAAEAGKOgAAACQAQo6AAAAZEDeBX3s2LGx1157RdOmTaNp06bRp0%2BfmDBhQiFmAwAAgK1G3gV9p512itGjR8fs2bPj2WefjUMOOSS%2B%2Bc1vxssvv1yI%2BQAAAGCrUD/fDRx55JHVHv/qV7%2BKsWPHxsyZM2PPPffMd/MAAACwVci7oP9vlZWVcf/998fq1aujT58%2Bhdw0AAAAJK0gBX3OnDnRp0%2Bf%2BPTTT2PbbbeNBx98MLp167bJ51dUVERFRUXV45UrVxZiDAAAANhiFaSg77bbbvH888/HihUr4s9//nMMGTIknnzyyU2W9FGjRsXIkSML8dawUZ0%2BvafYI9SpecUeAArA/25hy9Pp4vHFHqHOzBs9qNgjAFuBgnzNWllZWXTp0iX23XffGDVqVOy9995xzTXXbPL5l1xySaxYsaLqZ%2BHChYUYAwAAALZYBb0G/d/Wr19f7RT2/6u8vDzKy8tr460BAABgi5R3Qb/kkkviiCOOiA4dOsSqVavinnvuiWnTpsWkSZMKMR8AAABsFfIu6EuWLImTTjopPvjgg2jWrFnstddeMWnSpDjssMMKMR8AAABsFfIu6Lfeemsh5gAAAICtWkFuEgcAAADkR0EHAACADFDQAQAAIAMUdAAAAMgABR0AAAAyQEEHAACADFDQAQAAIAMUdAAAAMgABR0AAAAyQEEHAACADFDQAQAAIAMUdAAAAMgABR0AAAAyQEEHAACADFDQAQAAIAMUdAAAAMgABR0AAAAyQEEHAACADFDQAQAAIAMUdAAAAMgABR0AAAAyQEEHAACADFDQAQAAIAMUdAAAAMgABR0AAAAyQEEHAACADFDQAQAAIAMUdAAAAMgABR0AAAAyQEEHAACADFDQAQAAIAMUdAAAAMgABR0AAAAyQEEHAACADFDQAQAAIAMUdAAAAMgABR0AAAAyQEEHAACADFDQAQAAIAMUdAAAAMgABR0AAAAyQEEHAACADFDQAQAAIAMUdAAAAMgABR0AAAAyQEEHAACADFDQAQAAIAMUdAAAAMgABR0AAAAyQEEHAACADFDQAQAAIAMUdAAAAMgABR0AAAAyQEEHAACADFDQAQAAIAMUdAAAAMgABR0AAAAyQEEHAACADFDQAQAAIAMUdAAAAMgABR0AAAAyQEEHAACADFDQAQAAIAMUdAAAAMgABR0AAAAyQEEHAACADFDQAQAAIAPyLuijRo2KXr16RZMmTaJVq1Zx1FFHxeuvv16I2QAAAGCrkXdBf/LJJ%2BOss86KmTNnxpQpU2Lt2rVx%2BOGHx%2BrVqwsxHwAAAGwV6ue7gYkTJ1Z7fPvtt0erVq1i9uzZ0bdv33w3DwAAAFuFvAv6/7VixYqIiNhuu%2B02%2BZyKioqoqKioerxy5cpCjwEAAABblIIW9PXr18d5550XBx54YHTv3n2Tzxs1alSMHDmykG9dMyOaFXuCujViRbEnAABgC9Dp4vHFHqHOzBs9qNgjQJWC3sX9rLPOipdeeinuvffez33eJZdcEitWrKj6WbhwYSHHAAAAgC1OwY6g//jHP46//vWvMX369Nhpp50%2B97nl5eVRXl5eqLcGAACALV7eBT2Xy8XZZ58dDz74YEybNi123nnnQswFAAAAW5W8C/pZZ50V99xzTzz88MPRpEmTWLRoUURENGvWLBo1apT3gAAAALA1yPsa9LFjx8aKFSuiX79%2B0bZt26qf%2B%2B67rxDzAQAAwFahIKe4AwAAAPkp6F3cAQAAgJpR0AEAACADFHQAAADIAAUdAAAAMkBBBwAAgAxQ0AEAACADFHQAAADIAAUdAAAAMkBBBwAAgAxQ0AEAACADFHQAAADIAAUdAAAAMkBBBwAAgAxQ0AEAACADFHQAAADIAAUdAAAAMkBBBwAAgAxQ0AEAACADFHQAAADIAAUdAAAAMkBBBwAAgAxQ0AEAACADFHQAAADIAAUdAAAAMkBBBwAAgAxQ0AEAACADFHQAAADIAAUdAAAAMkBBBwAAgAxQ0AEAACADFHQAAADIAAUdAAAAMkBBBwAAgAxQ0AEAACADFHQAAADIAAUdAAAAMkBBBwAAgAxQ0AEAACADFHQAAADIAAUdAAAAMkBBBwAAgAxQ0AEAACADFHQAAADIAAUdAAAAMkBBBwAAgAxQ0AEAACADFHQAAADIAAUdAAAAMkBBBwAAgAxQ0AEAACADFHQAAADIAAUdAAAAMkBBBwAAgAxQ0AEAACADFHQAAADIAAUdAAAAMkBBBwAAgAxQ0AEAACADFHQAAADIAAUdAAAAMkBBBwAAgAxQ0AEAACADFHQAAADIAAUdAAAAMkBBBwAAgAxQ0AEAACADFHQAAADIgIIU9OnTp8eRRx4Z7dq1i5KSknjooYcKsVkAAADYahSkoK9evTr23nvvuP766wuxOQAAANjq1C/ERo444og44ogjCrEpAAAA2CoVpKBvroqKiqioqKh6vHLlymKMAQAAAJlRlII%2BatSoGDlyZDHeuppOn95T7BHq1LxiDwDAVqnTxeOLPUKdmTd6ULFHAGALVpS7uF9yySWxYsWKqp%2BFCxcWYwwAAADIjKIcQS8vL4/y8vJivDUAAABkku9BBwAAgAwoyBH0jz/%2BON58882qx%2B%2B88048//zzsd1220WHDh0K8RYAAACQtIIU9GeffTYOPvjgqsfDhg2LiIghQ4bE7bffXoi3AAAAgKQVpKD369cvcrlcITYFAAAAWyXXoAMAAEAGKOgAAACQAQo6AAAAZICCDgAAABmgoAMAAEAGKOgAAACQAQo6AAAAZICCDgAAABmgoAMAAEAGKOgAAACQAQo6AAAAZICCDgAAABmgoAMAAEAGKOgAAACQAQo6AAAAZICCDgAAABmgoAMAAEAGKOgAAACQAQo6AAAAZICCDgAAABmgoAMAAEAGKOgAAACQAQo6AAAAZICCDgAAABmgoAMAAEAGKOgAAACQAQo6AAAAZICCDgAAABmgoAMAAEAGKOgAAACQAQo6AAAAZICCDgAAABmgoAMAAEAGKOgAAACQAQo6AAAAZICCDgAAABmgoAMAAEAGKOgAAACQAQo6AAAAZICCDgAAABmgoAMAAEAGKOgAAACQAQo6AAAAZICCDgAAABmgoAMAAEAGKOgAAACQAQo6AAAAZICCDgAAABmgoAMAAEAGKOgAAACQAQo6AAAAZICCDgAAABmgoAMAAEAGKOgAAACQAQo6AAAAZICCDgAAABmgoAMAAEAGKOgAAACQAQo6AAAAZICCDgAAABmgoAMAAEAGKOgAAACQAQo6AAAAZICCDgAAABmgoAMAAEAGKOgAAACQAQUr6Ndff3106tQpGjZsGPvvv3/MmjWrUJsGAACA5BWkoN93330xbNiwuPTSS%2BO5556LvffeOwYMGBBLliwpxOYBAAAgeQUp6L/97W/j9NNPj1NOOSW6desWN9xwQzRu3DjGjRtXiM0DAABA8vIu6J999lnMnj07%2Bvfv/z8bLS2N/v37x4wZM/LdPAAAAGwV6ue7gaVLl0ZlZWW0bt262vLWrVvHa6%2B9ttHXVFRUREVFRdXjFStWRETEypUr8x1ns6yv%2BKRO36/Y6vr3W0yyTZds0yXbdG1N2W5NuUbINmWyTZds6%2BY9c7lcjV6fd0GviVGjRsXIkSM3WN6%2BffsiTLP1aHZ1sSegtsg2XbJNl2zTJNd0yTZdsk1XMbNdtWpVNGvWbLNfl3dB32GHHaJevXqxePHiassXL14cbdq02ehrLrnkkhg2bFjV4/Xr18dHH30U22%2B/fZSUlOQ7UqatXLky2rdvHwsXLoymTZsWexwKSLbpkm26ZJsu2aZLtumSbbq2pmxzuVysWrUq2rVrV6PX513Qy8rKYt99942pU6fGUUcdFRH/KtxTp06NH//4xxt9TXl5eZSXl1db1rx583xH2aI0bdo0%2Bf84t1ayTZds0yXbdMk2XbJNl2zTtbVkW5Mj5/9WkFPchw0bFkOGDIn99tsvevfuHVdffXWsXr06TjnllEJsHgAAAJJXkIJ%2B3HHHxT//%2Bc/4z//8z1i0aFH07NkzJk6cuMGN4wAAAICNK9hN4n784x9v8pR2/kd5eXlceumlG5ziz5ZPtumSbbpkmy7Zpku26ZJtumT75ZXkanr/dwAAAKBgSos9AAAAAKCgAwAAQCYo6AAAAJABCjoAAABkQMHu4s7nq6ioiIhw58IEyTZdsk3TihUrYtGiRRER0aZNm2jWrFmRJ6JQZJsu2abN/jZdst18jqDXoilTpsTAgQOjRYsW0bhx42jcuHG0aNEiBg4cGI899lixxyMPsk2XbNN1yy23RLdu3WK77baLbt26VfvzrbfeWuzxyINs0yXbdNnfpku2%2BXEEvZbccccdcdppp8UxxxwTY8aMidatW0dExOLFi2Py5MkxcODAuPXWW%2BPEE08s8qRsLtmmS7bpuvLKK2PEiBFxzjnnxIABAzbI9txzz41ly5bF%2BeefX%2BRJ2VyyTZds02V/my7ZFkCOWtG1a9fcddddt8n1119/fa5Lly51OBGFItt0yTZdHTp0yN13332bXH/vvffm2rdvX4cTUSiyTZds02V/my7Z5s8p7rVkwYIF0b9//02uP/TQQ%2BPdd9%2Btw4koFNmmS7bpWrJkSfTo0WOT63v06BFLly6tw4koFNmmS7bpsr9Nl2zzp6DXkj333PNzr40aN25cdOvWrQ4nolBkmy7ZpqtXr14xevToWLdu3QbrKisr4/LLL49evXoVYTLyJdt0yTZd9rfpkm3%2BSnK5XK7YQ6Ro2rRpMXjw4OjcuXP079%2B/2vUXU6dOjbfffjvGjx8fffv2LfKkbC7Zpku26XrxxRdjwIABsXbt2ujbt2%2B1bKdPnx5lZWUxefLk6N69e5EnZXPJNl2yTZf9bbpkmz8FvRbNmzcvxo4dGzNnzqz21SB9%2BvSJM844Izp16lTcAakx2aZLtulatWpV3HXXXRvN9oQTToimTZsWeUJqSrbpkm267G/TJdv8KOgAAACQAb5mrZatW7cuXn755apPj9q2bRt77LFHNGjQoMiTkS/Zpku26Vq0aFE8/fTT1bLt3bt3tGnTpsiTkS/Zpku26bK/TZds81DMW8inrLKyMvezn/0s17x581xJSUm1n%2BbNm%2Bd%2B/vOf5yorK4s9JjUg23TJNl0ff/xx7nvf%2B16uXr16ufr16%2BdatWqVa9WqVa5%2B/fq5evXq5b7//e/nVq9eXewxqQHZpku26bK/TZds86eg15ILLrgg17Jly9wNN9yQe%2Bedd3KffPJJ7pNPPsm98847uRtvvDHXqlWr3IUXXljsMakB2aZLtun6wQ9%2BkOvatWtu4sSJuXXr1lUtX7duXW7SpEm5XXfdNXfaaacVcUJqSrbpkm267G/TJdv8Kei1pHXr1rmJEyducv3EiRNzrVq1qsOJKBTZpku26WrevHnu73//%2BybX/%2B1vf8s1b968DieiUGSbLtmmy/42XbLNn%2B9BryWrVq2Kdu3abXJ927ZtY/Xq1XU4EYUi23TJNl3r16%2BPsrKyTa4vKyuL9evX1%2BFEFIps0yXbdNnfpku2%2BVPQa0m/fv3i/PPPj6VLl26wbunSpXHRRRdFv3796n4w8ibbdMk2XYMHD44f/vCH8Y9//GODdf/4xz/izDPPjCOPPLIIk5Ev2aZLtumyv02XbPPna9ZqycKFC2PgwIHx2muvRY8ePaJ169YREbF48eKYM2dOdOvWLf76179G%2B/btizwpm0u26ZJtupYtWxYnnHBCTJo0KVq0aBGtWrWKiIglS5bE8uXLY8CAAXHPPfdE8%2BbNizsom0226ZJtuuxv0yXb/CnotWj9%2BvUxadKkmDlzZtVXDLRp0yb69OkThx9%2BeJSWOoFhSyXbdMk2ba%2B99lrMmDFjg2x33333Ik9GvmSbLtmmyf42XbLNj4IOAAAAGeDjCwAAAMgABb0O7LzzznHYYYdVW9a/f//o3LlzkSaiUGSbLtmmq7S0NPbcc89qy/bYY4%2BoV69ekSaiUGSbLtmmy/42XbKtmfrFHmBrMGTIkGjZsmW1ZUcfffRG727IlkW26ZJtusaNG7fBTaVGjRoVK1asKM5AFIxs0yXbdNnfpku2NeMadAAAAMgAp7gDsNWpqKiIioqKYo9BLZBtumQLbA0U9Fr0yiuvxNChQ2OfffaJtm3bRtu2bWOfffaJoUOHxiuvvFLs8ciDbNMl23RNmTIlBg4cGC1atIjGjRtH48aNo0WLFjFw4MB47LHHij0eeZBtumSbLvvbdMk2P05xryUTJkyIo446Kr7yla/EgAEDonXr1hERsXjx4pgyZUrMnj07Hn744RgwYECRJ2VzyTZdsk3XHXfcEaeddlocc8wxG2Q7efLk%2BPOf/xy33nprnHjiiUWelM0l23TJNl32t%2BmSbQHkqBV77bVXbvjw4Ztcf%2Bmll%2BZ69OhRhxNRKLJNl2zT1bVr19x11123yfXXX399rkuXLnU4EYUi23TJNl32t%2BmSbf4cQa8ljRo1iueffz522223ja5//fXXo2fPnrFmzZo6nox8yTZdsk1Xw4YN44UXXpBtgmSbLtmmy/42XbLNn2vQa0mnTp1i/Pjxm1w/fvz46NixYx1ORKHINl2yTdeee%2B4Zt9566ybXjxs3Lrp161aHE1Eosk2XbNNlf5su2ebP96DXkssuuyxOOOGEmDZtWvTv37/a9RdTp06NiRMnxj333FPkKakJ2aZLtun6zW9%2BE4MHD46JEyduNNu33377c/9BQXbJNl2yTZf9bbpkmz%2BnuNeip556Kn73u9/FjBkzYtGiRRER0aZNm%2BjTp0%2Bce%2B650adPnyJPSE3JNl2yTde8efNi7NixMXPmzA2yPeOMM6JTp07FHZAak226ZJsu%2B9t0yTY/CjoAAABkgFPc68CKFSuqfXrUrFmzIk9Eocg2XbJN07p16%2BLll1%2BuyrZt27axxx57RIMGDYo8GfmSbbpkmzb723TJtoaKeQv51N188825PfbYI1daWporLS3NlZSU5EpLS3N77LFH7pZbbin2eORBtumSbZoqKytzP/vZz3LNmzfPlZSUVPtp3rx57uc//3musrKy2GNSA7JNl2zTZn%2BbLtnmxxH0WnLllVfGiBEj4pxzzokBAwZUu0HC5MmT49xzz41ly5bF%2BeefX%2BRJ2VyyTZds03XxxRfH7bffHqNHj95otsOHD4/PPvssLr/88iJPyuaSbbpkmy7723TJtgCK/QlBqjp06JC77777Nrn%2B3nvvzbVv374OJ6JQZJsu2aardevWuYkTJ25y/cSJE3OtWrWqw4koFNmmS7bpsr9Nl2zz53vQa8mSJUuiR48em1zfo0ePWLp0aR1ORKHINl2yTdeqVauiXbt2m1zftm3bWL16dR1ORKHINl2yTZf9bbpkmz8FvZb06tUrRo8eHevWrdtgXWVlZVx%2B%2BeXRq1evIkxGvmSbLtmmq1%2B/fnH%2B%2Bedv9B8FS5cujYsuuij69etX94ORN9mmS7bpsr9Nl2zz52vWasmLL74YAwYMiLVr10bfvn2rXX8xffr0KCsri8mTJ0f37t2LPCmbS7bpkm26Fi5cGAMHDozXXnstevToUS3bOXPmRLdu3eKvf/1rtG/fvsiTsrlkmy7Zpsv%2BNl2yzZ%2BCXotWrVoVd911V8ycObPaVwz06dMnTjjhhGjatGmRJ6SmZJsu2aZr/fr1MWnSpI1me/jhh0dpqZPKtlSyTZds02V/my7Z5kdBBwAAgAzwsSMAAABkgIJeBw4%2B%2BOA4%2BeSTqy0bMmRIHHLIIcUZiIKRbbpkm66dd945DjvssGrL%2BvfvH507dy7SRBSKbNMl23TZ36ZLtjVTv9gDbA06deoUbdu2rbZsxx13dN1UAmSbLtmma8iQIdGyZctqy44%2B%2Bmhf%2B5IA2aZLtumyv02XbGvGNegAAACQAT6%2BAAAAgAxwinstWrp0aYwbNy5mzJhR7SsGDjjggDj55JM3OFWLLYds0yXbdL3yyitx3XXXbZBtnz594sc//nF069atyBNSU7JNl2zTZX%2BbLtnmxynuteSZZ56JAQMGROPGjaN///7RunXriIhYvHhxTJ06NT755JOYNGlS7LfffkWelM0l23TJNl0TJkyIo446Kr7yla/EgAEDqmU7ZcqUmD17djz88MMxYMCAIk/K5pJtumSbLvvbdMk2fwp6LfnqV78ae%2B%2B9d9xwww1RUlJSbV0ul4szzjgjXnzxxZgxY0aRJqSmZJsu2aZr7733jm9%2B85tx2WWXbXT9iBEj4oEHHogXX3yxjicjX7JNl2zTZX%2BbLtnmT0GvJY0aNYp//OMfsfvuu290/WuvvRb77LNPrFmzpo4nI1%2ByTZds09WoUaN4/vnnY7fddtvo%2Btdffz169uwp2y2QbNMl23TZ36ZLtvlzk7ha0qZNm5g1a9Ym18%2BaNavqlA%2B2LLJNl2zT1alTpxg/fvwm148fPz46duxYhxNRKLJNl2zTZX%2BbLtnmz03iasn5558fP/zhD2P27Nlx6KGHbnD9xc033xxXXXVVkaekJmSbLtmm67LLLosTTjghpk2bttFr4iZOnBj33HNPkaekJmSbLtmmy/42XbItgBy15t57783tv//%2Bufr16%2BdKSkpyJSUlufr16%2Bf233//3H333Vfs8ciDbNMl23T9/e9/zx133HG5Dh065MrKynJlZWW5Dh065I477rjcU089VezxyINs0yXbdNnfpku2%2BXENeh1Yu3ZtLF26NCIidthhh2jQoEGRJ6JQZJsu2QJA7bO/TZdsa0ZBryMVFRUREVFeXl7kSSg02aZLtmlasWJFte9lbdasWZEnolBkmy7Zps3%2BNl2y3XxuEleLpkyZEgMHDowWLVpE48aNo3HjxtGiRYsYOHBgPPbYY8UejzzINl2yTdctt9wS3bp1i%2B222y66desWe%2ByxR9Wfb7311mKPRx5kmy7Zpsv%2BNl2yzY%2BbxNWSO%2B64I0477bQ45phjYsyYMdVukDB58uQYOHBg3HrrrXHiiScWeVI2l2zTJdt0XXnllTFixIg455xzYsCAARtke%2B6558ayZcvi/PPPL/KkbC7Zpku26bK/TZdsC6C4l8Cnq2vXrrnrrrtuk%2Buvv/76XJcuXepwIgpFtumSbbo6dOjwuTemuffee3Pt27evw4koFNmmS7bpsr9Nl2zz5xT3WrJgwYLo37//Jtcfeuih8e6779bhRBSKbNMl23QtWbIkevToscn1PXr0qLqRDVsW2aZLtumyv02XbPOnoNeSPffc83OvjRo3blx069atDieiUGSbLtmmq1evXjF69OhYt27dBusqKyvj8ssvj169ehVhMvIl23TJNl32t%2BmSbf7cxb2WTJs2LQYPHhydO3eO/v37V7v%2BYurUqfH222/H%2BPHjo2/fvkWelM0l23TJNl0vvvhiDBgwINauXRt9%2B/atlu306dOjrKwsJk%2BeHN27dy/ypGwu2aZLtumyv02XbPOnoNeiefPmxdixY2PmzJnVvhqkT58%2BccYZZ0SnTp2KOyA1Jtt0yTZdq1atirvuumuj2Z5wwgnRtGnTIk9ITck2XbJNl/1tumSbHwUdAAAAMsA16AAAAJABCjoAAABkgIIOAAAAGaCgAwAAQAYo6AAAAJABCnqRLFy4ME499dRij0EtkG26ZJuut956Kw455JBij0EtkG26ZJsu%2B9t0yfaLKehF8tFHH8Udd9xR7DGoBbJNl2zT9fHHH8eTTz5Z7DGoBbJNl2zTZX%2BbLtl%2BsfrFHiBVjzzyyOeuf/vtt%2BtoEgpNtumSbbp%2B97vffe769957r44modBkmy7Zpsv%2BNl2yzV9JLpfLFXuIFJWWlkZJSUl83q%2B3pKQkKisr63AqCkG26ZJtukpLS6Nt27ZRVla20fWfffZZLFq0SLZbINmmS7bpsr9Nl2zz5xT3WtK2bdt44IEHYv369Rv9ee6554o9IjUk23TJNl0dO3aMMWPGxDvvvLPRn/Hjxxd7RGpItumSbbrsb9Ml2/wp6LVk3333jdmzZ29y/Rd9skR2yTZdsk2XbNMl23TJNl2yTZds8%2Bca9FpywQUXxOrVqze5vkuXLvHEE0/U4UQUimzTJdt0XXbZZfHJJ59scn23bt3inXfeqcOJKBTZpku26bK/TZds8%2BcadAAAAMgAR9DrSEVFRURElJeXF3kSCk226ZJtmlasWBGLFi2KiIg2bdpEs2bNijwRhSLbdMk2bfa36ZLt5nMNei2aMmVKDBw4MFq0aBGNGzeOxo0bR4sWLWLgwIHx2GOPFXs88iDbdMk2Xbfcckt069Yttttuu%2BjWrVu1P996663FHo88yDZdsk2X/W26ZJsfR9BryR133BGnnXZaHHPMMTFmzJho3bp1REQsXrw4Jk%2BeHAMHDoxbb701TjzxxCJPyuaSbbpkm64rr7wyRowYEeecc04MGDBgg2zPPffcWLZsWZx//vlFnpTNJdt0yTZd9rfpkm0B5KgVXbt2zV133XWbXH/99dfnunTpUocTUSiyTZds09WhQ4fcfffdt8n19957b659%2B/Z1OBGFItt0yTZd9rfpkm3%2BnOJeSxYsWBD9%2B/ff5PpDDz003n333TqciEKRbbpkm64lS5ZEjx49Nrm%2BR48esXTp0jqciEKRbbpkmy7723TJNn8Kei3Zc889P/faqHHjxkW3bt3qcCIKRbbpkm26evXqFaNHj45169ZtsK6ysjIuv/zy6NWrVxEmI1%2ByTZds02V/my7Z5s/XrNWSadOmxeDBg6Nz587Rv3//atdfTJ06Nd5%2B%2B%2B0YP3589O3bt8iTsrlkmy7ZpuvFF1%2BMAQMGxNq1a6Nv377Vsp0%2BfXqUlZXF5MmTo3v37kWelM0l23TJNl32t%2BmSbf4U9Fo0b968GDt2bMycObPaV4P06dMnzjjjjOjUqVNxB6TGZJsu2aZr1apVcdddd2002xNOOCGaNm1a5AmpKdmmS7bpsr9Nl2zzo6ADAABABrgGvQ4NHTrUzUwSJdt0yTZdgwYNig8%2B%2BKDYY1ALZJsu2abL/jZdst08Cnoduuuuu2LlypXFHoNaINt0yTZd06dPjzVr1hR7DGqBbNMl23TZ36ZLtptHQa9DriZIl2zTJVsAqH32t%2BmS7eZR0AHYKnXs2DEaNGhQ7DGoBbJNl2yB1LlJHAAAAGSAI%2Bi1ZPbs2cUegTp2yimnxPvvv1/sMYAaWL16dUyfPr3YY1BDS5YsiccffzxWrFgREf/6vt0rrrgiRo8eHXPmzCnydBTK8uXL4%2Babb47hw4fHLbfcUpU3aVi7dm3MnTtXromorKys9vjpp5%2BO6dOnx9q1a4s00ZZDQa8lvXr1ii5dusSvf/1rpS0xL7744kZ/7r777pg1a1bVY7Y8a9eujQsvvDC6dOkSvXv3jnHjxlVbv3jx4qhXr16RpqM2vfnmm3HwwQcXewxqYNq0adG5c%2Bfo379/7L777vHCCy/EfvvtF7fcckvcfvvt0atXr5g8eXKxx6QGvvWtb8Wf//zniIh4%2BeWXo2vXrvGzn/0spkyZEj//%2Bc9j9913j1dffbXIU1ITV1xxRdXN/iorK%2BP888%2BPbbfdNnbffffYYYcd4tRTT1XktlAffPBBHHTQQVFeXh5f//rXY9myZTF48ODo06dP9OvXL7p37%2B6bGL6Agl6LDjnkkLjmmmuiY8eOMXjw4HjooYc2%2BDSJLU/Pnj1jn332iZ49e1b7WbduXXz729%2BuWs%2BW51e/%2BlXceeedccYZZ8Thhx8ew4YNix/96EfVnuOqIMiW4cOHx8knnxwrV66M//iP/4hBgwbFN7/5zXjjjTfitddei7PPPjtGjhxZ7DGpgWnTpkX37t0jIuKCCy6Iww8/PN59992YOXNmLFy4MAYNGhTnnXdecYekRi655JJYtWpVRESMGTMmxo0bFzfccEPMmTMnbr/99hg/fnyMGTOmyFNSExdddFHkcrl48MEHo23btjF48OBYuXJlLFy4MObNmxctW7aMX/3qV8UeM9Ncg15LSktLY9GiRbHddtvFww8/HOPGjYtJkybFDjvsEEOGDIkf/OAHseuuuxZ7TGqgZ8%2BesdNOO8VVV10VjRo1ioh/lbauXbvGhAkTomvXrhHxrxvZsGXp2rVrjBkzJgYPHhwR/zqqesQRR8RBBx0U48aNiyVLlkS7du180LYF2m677T53fWVlZXz88cey3QI1a9Ysnnvuudhll11i3bp10ahRo3jmmWeiZ8%2BeERExd%2B7c6NWrVyxfvryoc7L5GjduHHPmzIlddtkl2rVrF%2BPHj6/2Afgbb7wRvXv3lu0W6N//Tm7VqlV85StfiTPOOCN%2B%2BMMfVq2/%2B%2B67Y9SoUfHSSy8VcUpqol27dvHAAw/EV7/61fjoo49ihx12iClTpsShhx4aERGPP/54nH766fHWW28VedLsql/sAVJXv379%2BPa3vx3f/va347333otx48bF7bffHldddVUceOCBrnncAs2aNSsuvPDC%2BPa3vx133XVXtX8stGvXTjHfgr333ntVR2siIrp06RLTpk2LQw45JE488cS44oorijgd%2BaioqIgzzzwzevTosdH18%2BfPd5R1C1VWVhaffvppRER89tlnsX79%2BqrHERFr1qxx1%2B8t1F577RWPP/547LLLLtGmTZuYP39%2BtX3u/Pnzqz4oZ8tTUlISERELFiyIAw44oNq6Aw44IN55551ijEWeli1bFjvuuGNE/OvD8caNG1f7t3GXLl2c4v4FFPRa8u//0/nfdtxxxxg%2BfHgMHz48pk6dusH1rWwZysrK4uqrr44JEybEN77xjRg6dGhcdNFFxR6LAmjTpk289dZb0alTp6plO%2B64YzzxxBNx8MEHx8knn1y02chPz549o3379jFkyJCNrn/hhRcU9C3UgQceGBdffHFcfPHFceedd8ZXvvKV%2BOUvfxn33XdflJSUxC9%2B8YvYb7/9ij0mNTB8%2BPA46aSTokGDBnHOOefET37yk/jwww9jjz32iNdffz0uvfTSOPHEE4s9JjV08803x7bbbhtlZWXx0UcfVVu3atWqKC8vL9Jk5KNVq1bxwQcfRPv27SMi4sc//nG1s9iWLVsW22yzTbHG2yIo6LXki64cOPTQQ6tO9WDLdMQRR8Szzz4bp5xySkyYMKHY41AAhxxySNxzzz0b/G%2BzXbt28fjjj0e/fv2KMxh5GzRo0OeeBrvddtvFSSedVHcDUTBXXnllDBo0KL72ta/F7rvvHlOmTImhQ4dG8%2BbNIyKiRYsWMXHixOIOSY0MGjQobrrppjjvvPPi/fffj1wuF6effnpERJSXl8cZZ5wRo0aNKvKU1ESHDh3i5ptvjoh/Zfncc89F3759q9Y/8cQTsdtuuxVrPPLQs2fPmDFjRvTu3TsiIkaPHl1t/d/%2B9rfYa6%2B9ijHaFsM16LXkySefjAMPPDDq1/cZyNbgd7/7XTzxxBNx7bXXxk477VTscaih%2BfPnx2uvvRYDBgzY6Pr3338/pkyZssmjsEDxfPjhh7H99ttXPZ46dWqsWbMm%2BvTpU205W57KysqYPXt2vPPOO7F%2B/fpo27Zt7LvvvtGkSZNij0YtmTlzZpSXl7vpboJmzZoVjRs3rnZJIdUp6AAAAJABDu/Wos8%2B%2ByweeuihmDFjRixatCgi/nWN6wEHHBDf/OY3o6ysrMgTUlOyTZds0yXbdMk2XbJNl2zTJdv8OIJeS958880YMGBAvP/%2B%2B7H//vtH69atIyJi8eLF8fTTT8dOO%2B0UEyZMiC5duhR5UjaXbNMl23TJNl2yTZds0yXbdMk2fwp6LTnssMNim222iTvvvDOaNm1abd3KlSvjpJNOijVr1sSkSZOKNCE1Jdt0yTZdsk2XbNMl23TJNl2yzZ%2BCXksaN24cs2bN2uQNEObMmRP7779/fPLJJ3U8GfmSbbpkmy7Zpku26ZJtumSbLtnmr7TYA6SqefPmMW/evE2unzdvXtVXwLBlkW26ZJsu2aZLtumSbbpkmy7Z5s9N4mrJaaedFieddFIMHz48Dj300GrXX0ydOjV%2B%2Bctfxtlnn13kKakJ2aZLtumSbbpkmy7Zpku26ZJtAeSoNaNHj861bds2V1JSkistLc2VlpbmSkpKcm3bts1dfvnlxR6PPMg2XbJNl2zTJdt0yTZdsk2XbPPjGvQ68M4771T7ioGdd965yBNRKLJNl2zTJdt0yTZdsk2XbNMl25pxDXod2HnnnaNPnz6xfv36aNeuXbHHoYBkmy7Zpku26ZJtumSbLtmmS7Y14wh6HWratGk8//zz0blz52KPQoHJNl2yTZds0yXbdMk2XbJNl2w3jyPodchnIemSbbpkmy7Zpku26ZJtumSbLtluHgUdAAAAMkBBr0M33nhj1VcNkBbZpku26ZJtumSbLtmmS7bpku3mcQ06AAAAZIAj6LXohRdeiF/%2B8pfx%2B9//PpYuXVpt3cqVK%2BPUU08t0mTkS7bpkm26ZJsu2aZLtumSbbpkmx9H0GvJ5MmT48gjj4yuXbvGqlWrYvXq1XH//ffHwQcfHBERixcvjnbt2kVlZWWRJ2VzyTZdsk2XbNMl23TJNl2yTZdsCyBHrejTp0/upz/9aS6Xy%2BXWr1%2Bfu/zyy3PbbrttbsKECblcLpdbtGhRrrS0tJgjUkOyTZds0yXbdMk2XbJNl2zTJdv8Kei1pGnTprk333yz2rK77747t8022%2BT%2B67/%2By3%2BcWzDZpku26ZJtumSbLtmmS7bpkm3%2B6hf7CH6qysvLY/ny5dWWnXDCCVFaWhrHHXdc/OY3vynOYORNtumSbbpkmy7Zpku26ZJtumSbPwW9lvTs2TOeeOKJ2Hfffast/%2B53vxu5XC6GDBlSpMnIl2zTJdt0yTZdsk2XbNMl23TJNn8Kei0588wzY/r06Rtdd/zxx0cul4ubb765jqeiEGSbLtmmS7bpkm26ZJsu2aZLtvlzF3cAAADIAN%2BDDgAAABmgoNei3//%2B99G/f/849thjY%2BrUqdXWLV26NDp37lykyciXbNMl23TJNl2yTZds0yXbdMk2Pwp6Lfnd734XF1xwQey%2B%2B%2B5RXl4eAwcOjFGjRlWtr6ysjPnz5xdxQmpKtumSbbpkmy7Zpku26ZJtumRbAHX9vW5bi27duuXuvvvuqsd///vfcy1btswNHz48l8vlfAfgFky26ZJtumSbLtmmS7bpkm26ZJs/d3GvJe%2B8804ccMABVY8POOCAePzxx6N///6xdu3aOO%2B884o3HHmRbbpkmy7Zpku26ZJtumSbLtnmT0GvJTvssEMsXLgwOnXqVLWse/fu8fjjj8chhxwS77//fvGGIy%2ByTZds0yXbdMk2XbJNl2zTJdv8uQa9lhx00EHxwAMPbLC8W7duMXXq1JgwYUIRpqIQZJsu2aZLtumSbbpkmy7Zpku2%2BXMEvZZcfPHFMXv27I2u23PPPePxxx%2BPv/zlL3U8FYUg23TJNl2yTZds0yXbdMk2XbLNX0kul8sVewgAAADY2jmCXstmzZoVM2bMiEWLFkVERJs2baJPnz7Ru3fvIk9GvmSbLtmmS7bpkm26ZJsu2aZLtjXnCHotWbJkSXzrW9%2BKp556Kjp06BCtW7eOiIjFixfHggUL4sADD4y//OUv0apVqyJPyuaSbbpkmy7Zpku26ZJtumSbLtnmz03iasnQoUNj/fr18eqrr8a8efPi6aefjqeffjrmzZsXr776aqxfvz7OOuusYo9JDcg2XbJNl2zTJdt0yTZdsk2XbPPnCHotadKkSUyfPj322Wefja6fPXt29OvXL1atWlXHk5Ev2aZLtumSbbpkmy7Zpku26ZJt/hxBryXl5eWxcuXKTa5ftWpVlJeX1%2BFEFIps0yXbdMk2XbJNl2zTJdt0yTZ/CnotOe6442LIkCHx4IMPVvuPdOXKlfHggw/GKaecEscff3wRJ6SmZJsu2aZLtumSbbpkmy7Zpku2BZCjVnz66ae5M844I1dWVpYrLS3NNWzYMNewYcNcaWlprqysLHfmmWfmPv3002KPSQ3INl2yTZds0yXbdMk2XbJNl2zz5xr0WrZy5cqYPXt2ta8Y2HfffaNp06ZFnox8yTZdsk2XbNMl23TJNl2yTZdsa05BBwAAgAxwDXotWrNmTfztb3%2BLV155ZYN1n376adx5551FmIpCkG26ZJsu2aZLtumSbbpkmy7Z5qm4Z9in6/XXX8917NgxV1JSkistLc317ds3995771WtX7RoUa60tLSIE1JTsk2XbNMl23TJNl2yTZds0yXb/DmCXksuuuii6N69eyxZsiRef/31aNKkSRx00EGxYMGCYo9GnmSbLtmmS7bpkm26ZJsu2aZLtvlzDXotad26dTz22GPRo0ePiIjI5XIxdOjQePTRR%2BOJJ56IbbbZJtq1axeVlZVFnpTNJdt0yTZdsk2XbNMl23TJNl2yzZ8j6LVkzZo1Ub9%2B/arHJSUlMXbs2DjyyCPj61//erzxxhtFnI58yDZdsk2XbNMl23TJNl2yTZds81f/i59CTey%2B%2B%2B7x7LPPxh577FFt%2BXXXXRcREd/4xjeKMRYFINt0yTZdsk2XbNMl23TJNl2yzZ8j6LXk6KOPjj/%2B8Y8bXXfdddfF8ccfH64u2DLJNl2yTZds0yXbdMk2XbJNl2zz5xp0AAAAyABH0AEAACADFHQAAADIAAUdAAAAMkBBBwAAgAxQ0AGAzzVixIjo2bNnsccAgOQp6ABAlZKSknjooYeKPQYAbJUUdAAAAMgABR0AMqhfv35x9tlnx3nnnRctWrSI1q1bx8033xyrV6%2BOU045JZo0aRJdunSJCRMmVL3mySefjN69e0d5eXm0bds2Lr744li3bl21bZ5zzjlx4YUXxnbbbRdt2rSJESNGVK3v1KlTREQcffTRUVJSUvX43/7whz9Ep06dolmzZvHd7343Vq1aVZu/AgDY6ijoAJBRd9xxR%2Bywww4xa9asOPvss%2BPMM8%2BM73znO3HAAQfEc889F4cffniceOKJ8cknn8R7770XAwcOjF69esULL7wQY8eOjVtvvTV%2B%2BctfbrDNbbbZJp5%2B%2Bum44oor4rLLLospU6ZERMQzzzwTERG33XZbfPDBB1WPIyLeeuuteOihh%2BKvf/1r/PWvf40nn3wyRo8eXXe/DADYCpTkcrlcsYcAAKrr169fVFZWxn//939HRERlZWU0a9YsvvWtb8Wdd94ZERGLFi2Ktm3bxowZM%2BK//uu/4i9/%2BUu8%2BuqrUVJSEhERv//97%2BOiiy6KFStWRGlp6QbbjIjo3bt3HHLIIVVlu6SkJB588ME46qijqp4zYsSIuPLKK2PRokXRpEmTiIi48MILY/r06TFz5sy6%2BHUAwFbBEXQAyKi99tqr6s/16tWL7bffPnr06FG1rHXr1hERsWTJknj11VejT58%2BVeU8IuLAAw%2BMjz/%2BON59992NbjMiom3btrFkyZIvnKVTp05V5XxzXgcAfHkKOgBkVIMGDao9Likpqbbs32V8/fr1eW3zy7y%2Bpq8DAL48BR0AErDHHnvEjBkz4n9fufb3v/89mjRpEjvttNOX3k6DBg2isrKyNkYEAL6Agg4ACRg6dGgsXLgwzj777Hjttdfi4YcfjksvvTSGDRsWpaVffnffqVOnmDp1aixatCiWLVtWixMDAP%2BXgg4ACdhxxx3j0UcfjVmzZsXee%2B8dZ5xxRvzgBz%2BIn//855u1nd/85jcxZcqUaN%2B%2Bfeyzzz61NC0AsDHu4g4AAAAZ4Ag6AAAAZICCDgAAABmgoAMAAEAGKOgAAACQAQo6AAAAZICCDgAAABmgoAMAAEAGKOgAAACQAQo6AAAAZICCDgAAABmgoAMAAEAGKOgAAACQAQo6AAAAZICCDgAAABmgoAMAAEAGKOgAAACQAQo6AAAAZICCDgAAABmgoAMAAEAG/H86%2BYmqdGU6JQAAAABJRU5ErkJggg%3D%3D"
     },
     "metadata": {},
     "output_type": "display_data",
     "source": "kernel"
    }
   ],
   "source": [
    "create chart as bar_chart where x = month and stacked = true and title = 'Some bad times'"
   ]
  },
  {
   "cell_type": "code",
   "execution_count": 7,
   "id": "c47fe2ab-dd82-4a7f-914a-611ea8522134",
   "metadata": {},
   "outputs": [
    {
     "name": "stdout",
     "output_type": "stream",
     "text": [
      "Notebook path is: /Users/scottp/src/unify/notebooks/Incident Stats.ipynb"
     ]
    }
   ],
   "source": [
    "email notebook to 'scottp@berkeleyzone.net'"
   ]
  },
  {
   "cell_type": "code",
   "execution_count": null,
   "id": "d6ad4ca4-d180-4c12-a475-8ea0118b4b12",
   "metadata": {},
   "outputs": [],
   "source": []
  }
 ],
 "metadata": {
  "kernelspec": {
   "display_name": "Unify",
   "language": "text",
   "name": "unify_kernel"
  },
  "language_info": {
   "file_extension": ".txt",
   "mimetype": "text/plain",
   "name": "text"
  }
 },
 "nbformat": 4,
 "nbformat_minor": 5
}

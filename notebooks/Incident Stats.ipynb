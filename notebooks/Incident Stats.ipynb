{
 "cells": [
  {
   "cell_type": "markdown",
   "id": "583081c2-b7a3-4fc5-b3a1-72d47e569816",
   "metadata": {},
   "source": [
    "## Incident stats"
   ]
  },
  {
   "cell_type": "markdown",
   "id": "0310dec9-bc30-4e85-81f2-82588bfc0716",
   "metadata": {},
   "source": [
    "Incidents are recorded in the \"Incidents\" project in JIRA. P1s are listed with priority = 'Emergency' and \n",
    "P2s are listed with priority = 'High'"
   ]
  },
  {
   "cell_type": "markdown",
   "id": "000b4e33-c8e0-4229-baf8-7a9b8f224dab",
   "metadata": {},
   "source": [
    "Count of P1s by month this year"
   ]
  },
  {
   "cell_type": "code",
   "execution_count": 1,
   "id": "675f4ad3-4c47-4ba1-adeb-1dc334f7439a",
   "metadata": {},
   "outputs": [
    {
     "name": "stdout",
     "output_type": "stream",
     "text": [
      "12 rows"
     ]
    },
    {
     "data": {
      "text/html": [
       "<table border=\"1\" class=\"dataframe\">\n",
       "  <thead>\n",
       "    <tr style=\"text-align: right;\">\n",
       "      <th>count</th>\n",
       "      <th>month</th>\n",
       "      <th>priority</th>\n",
       "    </tr>\n",
       "  </thead>\n",
       "  <tbody>\n",
       "    <tr>\n",
       "      <td>3</td>\n",
       "      <td>2022-06-01</td>\n",
       "      <td>P1</td>\n",
       "    </tr>\n",
       "    <tr>\n",
       "      <td>1</td>\n",
       "      <td>2022-07-01</td>\n",
       "      <td>P1</td>\n",
       "    </tr>\n",
       "    <tr>\n",
       "      <td>2</td>\n",
       "      <td>2022-05-01</td>\n",
       "      <td>P1</td>\n",
       "    </tr>\n",
       "    <tr>\n",
       "      <td>3</td>\n",
       "      <td>2022-04-01</td>\n",
       "      <td>P1</td>\n",
       "    </tr>\n",
       "    <tr>\n",
       "      <td>3</td>\n",
       "      <td>2022-01-01</td>\n",
       "      <td>P1</td>\n",
       "    </tr>\n",
       "    <tr>\n",
       "      <td>1</td>\n",
       "      <td>2022-02-01</td>\n",
       "      <td>P2</td>\n",
       "    </tr>\n",
       "    <tr>\n",
       "      <td>4</td>\n",
       "      <td>2022-03-01</td>\n",
       "      <td>P1</td>\n",
       "    </tr>\n",
       "    <tr>\n",
       "      <td>6</td>\n",
       "      <td>2022-02-01</td>\n",
       "      <td>P1</td>\n",
       "    </tr>\n",
       "    <tr>\n",
       "      <td>2</td>\n",
       "      <td>2022-01-01</td>\n",
       "      <td>P2</td>\n",
       "    </tr>\n",
       "    <tr>\n",
       "      <td>2</td>\n",
       "      <td>2022-08-01</td>\n",
       "      <td>P1</td>\n",
       "    </tr>\n",
       "    <tr>\n",
       "      <td>1</td>\n",
       "      <td>2022-07-01</td>\n",
       "      <td>P2</td>\n",
       "    </tr>\n",
       "    <tr>\n",
       "      <td>1</td>\n",
       "      <td>2022-04-01</td>\n",
       "      <td>P2</td>\n",
       "    </tr>\n",
       "  </tbody>\n",
       "</table>"
      ],
      "text/plain": [
       " count      month priority\n",
       "     3 2022-06-01       P1\n",
       "     1 2022-07-01       P1\n",
       "     2 2022-05-01       P1\n",
       "     3 2022-04-01       P1\n",
       "     3 2022-01-01       P1\n",
       "     1 2022-02-01       P2\n",
       "     4 2022-03-01       P1\n",
       "     6 2022-02-01       P1\n",
       "     2 2022-01-01       P2\n",
       "     2 2022-08-01       P1\n",
       "     1 2022-07-01       P2\n",
       "     1 2022-04-01       P2"
      ]
     },
     "metadata": {},
     "output_type": "display_data",
     "source": "kernel"
    }
   ],
   "source": [
    "$INCS = select count(*) as count, cast(date_trunc('month',cast(fields_created as DATE)) as varchar) as month,\n",
    "  case\n",
    "    when fields_priority_name = 'Emergency' then 'P1'\n",
    "    else 'P2'\n",
    "  end as priority\n",
    "  from \n",
    "    jira.issues\n",
    "  where \n",
    "    key like 'INC-%'\n",
    "    and fields_priority_name IN ('Emergency','High')\n",
    "    and fields_created >= '2022-01-01'\n",
    "  group by month, fields_priority_name"
   ]
  },
  {
   "cell_type": "code",
   "execution_count": 2,
   "id": "933e2115-f401-4033-b285-9c6b0c9a91da",
   "metadata": {},
   "outputs": [
    {
     "data": {
      "image/png": "[encoded data removed]"
     },
     "metadata": {},
     "output_type": "display_data",
     "source": "kernel"
    }
   ],
   "source": [
    "create chart as bar_chart where x = month and y = count and color = priority \n",
    "and title = 'P1 and P2 Incidents'"
   ]
  },
  {
   "cell_type": "markdown",
   "id": "60fd988b-a16c-46cc-8957-41ab9f7c6fcd",
   "metadata": {},
   "source": [
    "email notebook to 'scottp@berkeleyzone.net'"
   ]
  },
  {
   "cell_type": "code",
   "execution_count": 2,
   "id": "d6ad4ca4-d180-4c12-a475-8ea0118b4b12",
   "metadata": {},
   "outputs": [
    {
     "name": "stdout",
     "output_type": "stream",
     "text": [
      "0 rows"
     ]
    },
    {
     "data": {
      "text/html": [
       "<table border=\"1\" class=\"dataframe\">\n",
       "  <thead>\n",
       "    <tr style=\"text-align: right;\">\n",
       "    </tr>\n",
       "  </thead>\n",
       "  <tbody>\n",
       "  </tbody>\n",
       "</table>"
      ],
      "text/plain": [
       "Empty DataFrame\n",
       "Columns: []\n",
       "Index: []"
      ]
     },
     "metadata": {},
     "output_type": "display_data",
     "source": "kernel"
    }
   ],
   "source": [
    "truncate papertrail.systems"
   ]
  },
  {
   "cell_type": "code",
   "execution_count": 4,
   "id": "46d97ee9-a120-481f-a0ba-0e0b2736abb4",
   "metadata": {},
   "outputs": [
    {
     "name": "stdout",
     "output_type": "stream",
     "text": [
      "Scheduled to run notebook Incident Stats.ipynb"
     ]
    }
   ],
   "source": [
    "run at 12:00"
   ]
  },
  {
   "cell_type": "code",
   "execution_count": 9,
   "id": "bec30c66-c38d-4b8f-8e52-b9bc69f47bac",
   "metadata": {},
   "outputs": [
    {
     "name": "stdout",
     "output_type": "stream",
     "text": [
      "12 rows"
     ]
    },
    {
     "data": {
      "text/html": [
       "<table border=\"1\" class=\"dataframe\">\n",
       "  <thead>\n",
       "    <tr style=\"text-align: right;\">\n",
       "      <th>priority</th>\n",
       "      <th>count</th>\n",
       "      <th>month</th>\n",
       "    </tr>\n",
       "  </thead>\n",
       "  <tbody>\n",
       "    <tr>\n",
       "      <td>p1</td>\n",
       "      <td>3</td>\n",
       "      <td>2022-01-01</td>\n",
       "    </tr>\n",
       "    <tr>\n",
       "      <td>p1</td>\n",
       "      <td>6</td>\n",
       "      <td>2022-02-01</td>\n",
       "    </tr>\n",
       "    <tr>\n",
       "      <td>p1</td>\n",
       "      <td>4</td>\n",
       "      <td>2022-03-01</td>\n",
       "    </tr>\n",
       "    <tr>\n",
       "      <td>p1</td>\n",
       "      <td>3</td>\n",
       "      <td>2022-04-01</td>\n",
       "    </tr>\n",
       "    <tr>\n",
       "      <td>p1</td>\n",
       "      <td>2</td>\n",
       "      <td>2022-05-01</td>\n",
       "    </tr>\n",
       "    <tr>\n",
       "      <td>p1</td>\n",
       "      <td>3</td>\n",
       "      <td>2022-06-01</td>\n",
       "    </tr>\n",
       "    <tr>\n",
       "      <td>p1</td>\n",
       "      <td>1</td>\n",
       "      <td>2022-07-01</td>\n",
       "    </tr>\n",
       "    <tr>\n",
       "      <td>p1</td>\n",
       "      <td>2</td>\n",
       "      <td>2022-08-01</td>\n",
       "    </tr>\n",
       "    <tr>\n",
       "      <td>p2</td>\n",
       "      <td>2</td>\n",
       "      <td>2022-01-01</td>\n",
       "    </tr>\n",
       "    <tr>\n",
       "      <td>p2</td>\n",
       "      <td>1</td>\n",
       "      <td>2022-02-01</td>\n",
       "    </tr>\n",
       "    <tr>\n",
       "      <td>p2</td>\n",
       "      <td>1</td>\n",
       "      <td>2022-04-01</td>\n",
       "    </tr>\n",
       "    <tr>\n",
       "      <td>p2</td>\n",
       "      <td>1</td>\n",
       "      <td>2022-07-01</td>\n",
       "    </tr>\n",
       "  </tbody>\n",
       "</table>"
      ],
      "text/plain": [
       "priority  count      month\n",
       "      p1      3 2022-01-01\n",
       "      p1      6 2022-02-01\n",
       "      p1      4 2022-03-01\n",
       "      p1      3 2022-04-01\n",
       "      p1      2 2022-05-01\n",
       "      p1      3 2022-06-01\n",
       "      p1      1 2022-07-01\n",
       "      p1      2 2022-08-01\n",
       "      p2      2 2022-01-01\n",
       "      p2      1 2022-02-01\n",
       "      p2      1 2022-04-01\n",
       "      p2      1 2022-07-01"
      ]
     },
     "metadata": {},
     "output_type": "display_data",
     "source": "kernel"
    }
   ],
   "source": [
    "$INCS = select 'p1' as priority, count, cast(month as varchar) as month from $p1s \n",
    "  union all \n",
    "select 'p2' as priority, count, cast(month as varchar) as month from $p2s"
   ]
  },
  {
   "cell_type": "code",
   "execution_count": null,
   "id": "56d628eb-17d6-4c10-bde6-2a0657c145a9",
   "metadata": {},
   "outputs": [],
   "source": []
  }
 ],
 "metadata": {
  "kernelspec": {
   "display_name": "Unify",
   "language": "text",
   "name": "unify_kernel"
  },
  "language_info": {
   "file_extension": ".txt",
   "mimetype": "text/plain",
   "name": "text"
  }
 },
 "nbformat": 4,
 "nbformat_minor": 5
}

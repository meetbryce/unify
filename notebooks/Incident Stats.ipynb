{
 "cells": [
  {
   "cell_type": "markdown",
   "id": "583081c2-b7a3-4fc5-b3a1-72d47e569816",
   "metadata": {},
   "source": [
    "## Incident stats"
   ]
  },
  {
   "cell_type": "markdown",
   "id": "0310dec9-bc30-4e85-81f2-82588bfc0716",
   "metadata": {},
   "source": [
    "Incidents are recorded in the \"Incidents\" project in JIRA. P1s are listed with priority = 'Emergency' and \n",
    "P2s are listed with priority = 'High'"
   ]
  },
  {
   "cell_type": "markdown",
   "id": "000b4e33-c8e0-4229-baf8-7a9b8f224dab",
   "metadata": {},
   "source": [
    "Count of P1s by month this year"
   ]
  },
  {
   "cell_type": "code",
   "execution_count": 11,
   "id": "675f4ad3-4c47-4ba1-adeb-1dc334f7439a",
   "metadata": {},
   "outputs": [
    {
     "name": "stdout",
     "output_type": "stream",
     "text": [
      "8 rows"
     ]
    },
    {
     "data": {
      "text/html": [
       "<table border=\"1\" class=\"dataframe\">\n",
       "  <thead>\n",
       "    <tr style=\"text-align: right;\">\n",
       "      <th>count</th>\n",
       "      <th>month</th>\n",
       "    </tr>\n",
       "  </thead>\n",
       "  <tbody>\n",
       "    <tr>\n",
       "      <td>3</td>\n",
       "      <td>2022-01-01</td>\n",
       "    </tr>\n",
       "    <tr>\n",
       "      <td>6</td>\n",
       "      <td>2022-02-01</td>\n",
       "    </tr>\n",
       "    <tr>\n",
       "      <td>4</td>\n",
       "      <td>2022-03-01</td>\n",
       "    </tr>\n",
       "    <tr>\n",
       "      <td>3</td>\n",
       "      <td>2022-04-01</td>\n",
       "    </tr>\n",
       "    <tr>\n",
       "      <td>2</td>\n",
       "      <td>2022-05-01</td>\n",
       "    </tr>\n",
       "    <tr>\n",
       "      <td>3</td>\n",
       "      <td>2022-06-01</td>\n",
       "    </tr>\n",
       "    <tr>\n",
       "      <td>1</td>\n",
       "      <td>2022-07-01</td>\n",
       "    </tr>\n",
       "    <tr>\n",
       "      <td>2</td>\n",
       "      <td>2022-08-01</td>\n",
       "    </tr>\n",
       "  </tbody>\n",
       "</table>"
      ],
      "text/plain": [
       " count      month\n",
       "     3 2022-01-01\n",
       "     6 2022-02-01\n",
       "     4 2022-03-01\n",
       "     3 2022-04-01\n",
       "     2 2022-05-01\n",
       "     3 2022-06-01\n",
       "     1 2022-07-01\n",
       "     2 2022-08-01"
      ]
     },
     "metadata": {},
     "output_type": "display_data",
     "source": "kernel"
    }
   ],
   "source": [
    "$p1s = select count(*) as count, date_trunc('month',cast(fields_created as DATE)) as month\n",
    "  from \n",
    "    jira.issues\n",
    "  where \n",
    "    key like 'INC-%'\n",
    "    and fields_priority_name = 'Emergency'\n",
    "    and fields_created >= '2022-01-01'\n",
    "  group by month"
   ]
  },
  {
   "cell_type": "markdown",
   "id": "c429832e-9417-4b91-b27c-9d1921c2d4b7",
   "metadata": {},
   "source": [
    "Count of P2s"
   ]
  },
  {
   "cell_type": "code",
   "execution_count": 12,
   "id": "ab9725a2-3e97-4ac5-8cbf-c258a462017a",
   "metadata": {},
   "outputs": [
    {
     "name": "stdout",
     "output_type": "stream",
     "text": [
      "4 rows"
     ]
    },
    {
     "data": {
      "text/html": [
       "<table border=\"1\" class=\"dataframe\">\n",
       "  <thead>\n",
       "    <tr style=\"text-align: right;\">\n",
       "      <th>count</th>\n",
       "      <th>month</th>\n",
       "    </tr>\n",
       "  </thead>\n",
       "  <tbody>\n",
       "    <tr>\n",
       "      <td>2</td>\n",
       "      <td>2022-01-01</td>\n",
       "    </tr>\n",
       "    <tr>\n",
       "      <td>1</td>\n",
       "      <td>2022-02-01</td>\n",
       "    </tr>\n",
       "    <tr>\n",
       "      <td>1</td>\n",
       "      <td>2022-04-01</td>\n",
       "    </tr>\n",
       "    <tr>\n",
       "      <td>1</td>\n",
       "      <td>2022-07-01</td>\n",
       "    </tr>\n",
       "  </tbody>\n",
       "</table>"
      ],
      "text/plain": [
       " count      month\n",
       "     2 2022-01-01\n",
       "     1 2022-02-01\n",
       "     1 2022-04-01\n",
       "     1 2022-07-01"
      ]
     },
     "metadata": {},
     "output_type": "display_data",
     "source": "kernel"
    }
   ],
   "source": [
    "$p2s = select count(*) as count, date_trunc('month',cast(fields_created as DATE)) as month\n",
    "  from \n",
    "    jira.issues\n",
    "  where \n",
    "    key like 'INC-%'\n",
    "    and fields_priority_name = 'High'\n",
    "    and fields_created >= '2022-01-01'\n",
    "  group by month"
   ]
  },
  {
   "cell_type": "code",
   "execution_count": 13,
   "id": "9009ca91-7758-4801-b1b6-a7714a030e9c",
   "metadata": {},
   "outputs": [
    {
     "name": "stdout",
     "output_type": "stream",
     "text": [
      "8 rows"
     ]
    },
    {
     "data": {
      "text/html": [
       "<table border=\"1\" class=\"dataframe\">\n",
       "  <thead>\n",
       "    <tr style=\"text-align: right;\">\n",
       "      <th>p1</th>\n",
       "      <th>p2</th>\n",
       "      <th>month</th>\n",
       "    </tr>\n",
       "  </thead>\n",
       "  <tbody>\n",
       "    <tr>\n",
       "      <td>3</td>\n",
       "      <td>2</td>\n",
       "      <td>2022-01-01</td>\n",
       "    </tr>\n",
       "    <tr>\n",
       "      <td>6</td>\n",
       "      <td>1</td>\n",
       "      <td>2022-02-01</td>\n",
       "    </tr>\n",
       "    <tr>\n",
       "      <td>4</td>\n",
       "      <td>0</td>\n",
       "      <td>2022-03-01</td>\n",
       "    </tr>\n",
       "    <tr>\n",
       "      <td>3</td>\n",
       "      <td>1</td>\n",
       "      <td>2022-04-01</td>\n",
       "    </tr>\n",
       "    <tr>\n",
       "      <td>2</td>\n",
       "      <td>0</td>\n",
       "      <td>2022-05-01</td>\n",
       "    </tr>\n",
       "    <tr>\n",
       "      <td>3</td>\n",
       "      <td>0</td>\n",
       "      <td>2022-06-01</td>\n",
       "    </tr>\n",
       "    <tr>\n",
       "      <td>1</td>\n",
       "      <td>1</td>\n",
       "      <td>2022-07-01</td>\n",
       "    </tr>\n",
       "    <tr>\n",
       "      <td>2</td>\n",
       "      <td>0</td>\n",
       "      <td>2022-08-01</td>\n",
       "    </tr>\n",
       "  </tbody>\n",
       "</table>"
      ],
      "text/plain": [
       " p1  p2      month\n",
       "  3   2 2022-01-01\n",
       "  6   1 2022-02-01\n",
       "  4   0 2022-03-01\n",
       "  3   1 2022-04-01\n",
       "  2   0 2022-05-01\n",
       "  3   0 2022-06-01\n",
       "  1   1 2022-07-01\n",
       "  2   0 2022-08-01"
      ]
     },
     "metadata": {},
     "output_type": "display_data",
     "source": "kernel"
    }
   ],
   "source": [
    "select $p1s.count as p1, $p2s.count as p2, $p1s.month from $p1s\n",
    "  left outer join $p2s on $p2s.month = $p1s.month"
   ]
  },
  {
   "cell_type": "code",
   "execution_count": 14,
   "id": "9c984a49-87f2-4f10-8347-d350099309db",
   "metadata": {},
   "outputs": [
    {
     "data": {
      "image/png": "iVBORw0KGgoAAAANSUhEUgAAA%2BgAAAMgCAYAAACwGEg9AAAAOXRFWHRTb2Z0d2FyZQBNYXRwbG90bGliIHZlcnNpb24zLjUuMiwgaHR0cHM6Ly9tYXRwbG90bGliLm9yZy8qNh9FAAAACXBIWXMAAA9hAAAPYQGoP6dpAABEm0lEQVR4nO3deZQU9bk//meGZRQERGQVFBVcAAlGwSDGICIeFk3crlsUMRoVRQ1fE%2BVGIxgNaKLgion7gok31y3REAUEuTcRUIiKiRIXNkXAdUBlc%2BjfH/6cmwmLMN1Dfyher3P6HLuruvqZeVva76mu6pJcLpcLAAAAoKhKiz0AAAAAoKADAABAEhR0AAAASICCDgAAAAlQ0AEAACABCjoAAAAkQEEHAACABCjoAAAAkAAFHQAAABKgoAMAAEACFHQAAABIgIIOAAAACVDQAQAAIAEKOgAUSdu2beOMM84o9hhbzPDhw6OkpGST1i0pKYnhw4fX7EAAkBgFHYCtwr333hslJSWVt%2B222y722muvuOCCC2LJkiVV1r3mmmvi6KOPjubNm2ei6P3rz11aWhqtWrWKPn36xJQpUyrX%2Bfzzz%2BPWW2%2BNPn36RMuWLaNBgwax//77x9ixY6OiomKTX%2BeCCy6ooZ8iPQ899FCMGTOm2GMAQCUFHYCtylVXXRUPPPBA3HLLLXHwwQfH2LFjo3v37vH5559XrnP55ZfHCy%2B8EPvvv38RJy2sI444Ih544IG477774txzz41XXnklevXqFePHj4%2BIiLfffjuGDBkSuVwuhg4dGr/61a9i9913j8GDB8eZZ55Z5Om/dPnll8eKFSuKPUYlBR2A1NQu9gAAsDn69u0bBx54YEREnHXWWdGkSZO44YYb4oknnoiTTz45IiLmzp0bbdu2jQ8%2B%2BCCaNm1azHELZq%2B99orvf//7lfePOeaY6Ny5c4wZMyb69u0bLVq0iNmzZ0fHjh0r1znnnHPizDPPjHvuuSeuuOKKaNeuXTFGr1S7du2oXdtbDwDYEEfQAdiq9erVKyK%2BLOVfadu2bbW3N3/%2B/Bg8eHDsvffesf3220eTJk3ihBNOiHnz5lVZ76uP3P/lL3%2BJoUOHRtOmTaN%2B/fpxzDHHxPvvv19l3VwuF1dffXW0bt066tWrF4cddlj8/e9/r/aMERH77bdf7LzzzpU/984771ylnH/lmGOOiYiI1157bbNfY8qUKVFSUhL/9V//Fddcc020bt06tttuuzj88MPjzTffXGf96dOnR79%2B/aJx48ZRv3796Ny5c9x4442Vy9d3DvqqVaviRz/6UTRt2jQaNGgQRx99dLzzzjvrnefdd9%2BNM888M5o3bx5lZWXRsWPHuPvuu6s1c8%2BePeOpp56K%2BfPnV54%2B8K//3tx8883RsWPHqFevXjRu3DgOPPDAeOihhzb7dwgAm8OfsQHYqr311lsREdGkSZOCbO%2BFF16Iv/71r3HSSSdF69atY968eTF27Njo2bNn/OMf/4h69epVWX/IkCHRuHHjuPLKK2PevHkxZsyYuOCCC%2BLhhx%2BuXOdnP/tZXH311dGvX7/o169fzJo1K/r06ROrV6%2Bu9pwff/xxfPzxx197VHzx4sUR8WWBr65Ro0ZFaWlpXHLJJVFeXh7XXXddnHrqqTF9%2BvTKdSZMmBADBgyIli1bxkUXXRQtWrSI1157LZ588sm46KKLNrjts846Kx588ME45ZRT4uCDD45nn302%2Bvfvv856S5YsiW9961uV58k3bdo0xo8fHz/4wQ9i2bJlcfHFF2/WzD/96U%2BjvLw83nnnnRg9enREROywww4REXHHHXfEhRdeGMcff3xcdNFFsXLlynjllVdi%2BvTpccopp1T79wgAX0dBB2CrUl5eHh988EGsXLky/vKXv8RVV10V22%2B/fQwYMKAg2%2B/fv38cf/zxVR476qijonv37vHII4/EaaedVmVZkyZN4plnnqk8Mrx27dq46aabory8PBo1ahTvv/9%2BXHfdddG/f//44x//WLneT3/60/jFL36xyXOtXLkyPvjgg8jlcjF37tz4z//8z6ioqIgTTjhhg89ZvXp1jBkzJnbffffo2rXrJr/W%2Bl77pZdeirp160ZEROPGjeOiiy6KV199NTp16hQVFRVxzjnnRMuWLeOll16KHXfcsfK5uVxug9t9%2BeWX48EHH4zBgwfHrbfeGhER559/fpx66qnxyiuvVFn3pz/9aVRUVMTs2bMr/xhz7rnnxsknnxzDhw%2BPc845J7bffvtNnvmII46IXXbZJT7%2B%2BOMqpw5ERDz11FPRsWPH%2BP3vf1/t3xkAVIePuAOwVendu3c0bdo02rRpEyeddFLssMMO8dhjj8Uuu%2BxSkO3/a8lbs2ZNfPjhh9GuXbvYcccdY9asWeus/8Mf/rDKx7a//e1vR0VFRcyfPz8iIiZOnBirV6%2BOIUOGVFnv34/4fp277rormjZtGs2aNYuDDjqo8qP1G9vOBRdcEP/4xz/illtuyevc70GDBlUW3Ygvf8aILy9MFxHxt7/9LebOnRsXX3xxlXIeERv9WrU//elPERFx4YUXVnn833%2BmXC4XjzzySBx11FGRy%2BXigw8%2BqLwdeeSRUV5evk42Xzfzxuy4447xzjvvxAsvvPC16wJAITmCDsBW5dZbb4299torateuHc2bN4%2B99947SksL9/fmFStWxMiRI%2BOee%2B6Jd999t8oR4PLy8nXW33XXXavcb9y4cUR8%2BRH0iKgs6u3bt6%2ByXtOmTSvX3RTf/e5344ILLoiSkpJo0KBBdOzYMerXr7/B9X/5y1/GHXfcET//%2Bc%2BjX79%2Bm/w66/N1P%2BNXpxl06tRps7Y7f/78KC0tjT333LPK43vvvXeV%2B%2B%2B//3588skn8Zvf/CZ%2B85vfrHdbS5cu3ayZN%2BbSSy%2BNiRMnRrdu3aJdu3bRp0%2BfOOWUU6JHjx5f%2B1wAyIeCDsBWpVu3bpVXca8JQ4YMiXvuuScuvvji6N69ezRq1ChKSkripJNOirVr166zfq1atda7nY19tLs6WrduHb17996kde%2B999649NJL49xzz43LL78879feUj/jhnz1e//%2B978fAwcOXO86nTt3rnI/n5n33XffmDNnTjz55JPx5z//OR555JG47bbb4mc/%2B1mMGDFiM6cHgE2noAPAv/jv//7vGDhwYFx//fWVj61cuTI%2B%2BeSTam1vt912i4iIN954I/bYY4/Kx99///1NOpq7uZ544ok466yz4thjj608r7umfXUE/NVXX93kPyJEfPm7Wbt2bbz11ltVjprPmTOnynpfXeG9oqJis7b/dTb28fv69evHiSeeGCeeeGKsXr06jj322Ljmmmti2LBhsd122xVsBgD4V85BB4B/UatWrXWOst58881RUVFRre317t076tSpEzfffHOV7Y4ZMyafMddr6tSpcdJJJ8Whhx4a48aNK%2BhH/zfmm9/8Zuy%2B%2B%2B4xZsyYdf6QsbEj1n379o2IiJtuuqnK4//%2Bu6lVq1Ycd9xx8cgjj8Srr766znb%2B/WvtNlX9%2BvXXe9rChx9%2BWOV%2B3bp1o0OHDpHL5WLNmjXVei0A2BSOoAOQOQ888EDMnz8/Pv/884j4srheffXVERFx2mmnVR7VXp8BAwbEAw88EI0aNYoOHTrE888/HxMnTqz217g1bdo0Lrnkkhg5cmQMGDAg%2BvXrF3/7299i/PjxeX312b%2BbP39%2BHH300VFSUhLHH3/8Olcg79y58zofAy%2BU0tLSGDt2bBx11FHRpUuXGDRoULRs2TJef/31%2BPvf/x5PP/30ep/XpUuXOPnkk%2BO2226L8vLyOPjgg2PSpEnr/Y71UaNGxeTJk%2BOggw6Ks88%2BOzp06BAfffRRzJo1KyZOnBgfffTRZs99wAEHxMMPPxxDhw6Nrl27xg477BBHHXVU9OnTJ1q0aBE9evSI5s2bx2uvvRa33HJL9O/fPxo0aLDZrwMAm0pBByBz7rrrrnjuuecq70%2BePDkmT54cERGHHHLIRgv6jTfeGLVq1Ypx48bFypUro0ePHjFx4sQ48sgjqz3P1VdfHdttt13cfvvtlSXzmWeeWe/3fVfX3LlzK48Gn3/%2B%2Bessv/LKK2usoEdEHHnkkTF58uQYMWJEXH/99bF27drYc8894%2Byzz97o8%2B6%2B%2B%2B5o2rRpjBs3Lh5//PHo1atXPPXUU9GmTZsq6zVv3jxmzJgRV111VTz66KNx2223RZMmTaJjx45x7bXXVmvmwYMHx0svvRT33HNPjB49Onbbbbc46qij4pxzzolx48bFDTfcEJ9%2B%2Bmm0bt06LrzwwoKczw8AG1OS21JXeAEAAAA2yDnoAAAAkAAFHQAAABKgoAMAAEACFHQAAABIgIIOAAAACVDQAQAAIAFJfA/62rVrY9GiRdGgQYMoKSkp9jgAAACw2XK5XCxfvjxatWoVpaWbfzw8iYK%2BaNGiaNOmTbHHAAAAgLwtXLgwWrduvdnPS6KgN2jQICK%2B/CEaNmxY5GkAAABg8y1btizatGlT2XE3VxIF/auPtTds2FBBBwAAYKtW3VO3XSQOAAAAEqCgAwAAQAIUdAAAAEhAEuegAwAAkL6KiopYs2ZNsccomjp16kStWrVqbPsKOgAAABuVy%2BVi8eLF8cknnxR7lKLbcccdo0WLFtW%2BENzGKOgAAABs1FflvFmzZlGvXr0aKaepy%2BVy8fnnn8fSpUsjIqJly5YFfw0FHQAAgA2qqKioLOdNmjQp9jhFtf3220dExNKlS6NZs2YF/7i7i8QBAACwQV%2Bdc16vXr0iT5KGr34PNXEuvoIOAADA19oWP9a%2BPjX5e1DQAQAAIAEKOgAAACTAReIAAAColraXPbVFX2/eqP4F3d6jjz4at99%2Be8ycOTM%2B%2Buij%2BNvf/hZdunQp6GtsDkfQAQAA2CZ99tlnccghh8S1115b7FEiwhF0AAAAMqpnz57RqVOniIh44IEHok6dOnHeeefFVVddFSUlJXHaaadFRMS8efOKOOX/cQQdAACAzLrvvvuidu3aMWPGjLjxxhvjhhtuiDvvvLPYY62XI%2BgAAABkVps2bWL06NFRUlISe%2B%2B9d8yePTtGjx4dZ599drFHW4cj6AAAAGTWt771rSrfXd69e/d44403oqKioohTrZ%2BCDgAAAAlQ0AEAAMis6dOnV7k/bdq0aN%2B%2BfdSqVatIE22Yc9ABAADIrAULFsTQoUPjnHPOiVmzZsXNN98c119/fUREfPTRR7FgwYJYtGhRRETMmTMnIiJatGgRLVq02OKzKugAAABk1umnnx4rVqyIbt26Ra1ateKiiy6KH/7whxER8Yc//CEGDRpUue5JJ50UERFXXnllDB8%2BfIvPqqADAABQLfNG9S/2CF%2BrTp06MWbMmBg7duw6y84444w444wztvxQG%2BAcdAAAAEhA3gW9bdu2UVJSss7t/PPPL8R8AAAAsE3I%2ByPuL7zwQpXvj3v11VfjiCOOiBNOOCHfTQMAAEC1TZkypdgjbJa8C3rTpk2r3B81alTsueee8Z3vfCffTQMAAMA2o6DnoK9evToefPDBOPPMM6OkpKSQmwYAAIBMK%2BhV3B9//PH45JNPvvYqeKtWrYpVq1ZV3l%2B2bFkhxwAAAICtTkEL%2Bl133RV9%2B/aNVq1abXS9kSNHxogRIwr50lDV8EbFnmDLGl5e7AkAAIA8Fewj7vPnz4%2BJEyfGWWed9bXrDhs2LMrLyytvCxcuLNQYAAAAsFUq2BH0e%2B65J5o1axb9%2B3/9F9WXlZVFWVlZoV4aAAAAtnoFOYK%2Bdu3auOeee2LgwIFRu3ZBPzUPAAAA24SCtOmJEyfGggUL4swzzyzE5gAAANgabOlrPxXw2ktr1qyJyy%2B/PP70pz/F22%2B/HY0aNYrevXvHqFGjvva6ajWlIEfQ%2B/TpE7lcLvbaa69CbA4AAABq1Oeffx6zZs2KK664ImbNmhWPPvpozJkzJ44%2B%2BuiizeTz6AAAAGRSz549o1OnThER8cADD0SdOnXivPPOi6uuuioaNWoUEyZMqLL%2BLbfcEt26dYsFCxbErrvuusXnLdhV3AEAACA19913X9SuXTtmzJgRN954Y9xwww1x5513rnfd8vLyKCkpiR133HHLDvn/cwQdAACAzGrTpk2MHj06SkpKYu%2B9947Zs2fH6NGj4%2Byzz66y3sqVK%2BPSSy%2BNk08%2BORo2bFiUWR1BBwAAILO%2B9a1vRUlJSeX97t27xxtvvBEVFRWVj61Zsyb%2B4z/%2BI3K5XIwdO7YYY0aEI%2BgAAABsw74q5/Pnz49nn322aEfPIxR0AAAAMmz69OlV7k%2BbNi3at28ftWrVqiznb7zxRkyePDmaNGlSpCm/5CPuAAAAZNaCBQti6NChMWfOnPjtb38bN998c1x00UWxZs2aOP744%2BPFF1%2BMcePGRUVFRSxevDgWL14cq1evLsqsjqADAACQWaeffnqsWLEiunXrFrVq1YqLLroofvjDH8b8%2BfPjD3/4Q0REdOnSpcpzJk%2BeHD179tzisyroAAAAVM/w8mJP8LXq1KkTY8aMWefib23bto1cLlekqdbPR9wBAAAgAQo6AAAAJMBH3AEAAMikKVOmFHuEzeIIOgAAACRAQQcAAIAEKOgAAAB8rbVr1xZ7hCTU5O/BOegAAABsUN26daO0tDQWLVoUTZs2jbp160ZJSUmxx9ricrlcrF69Ot5///0oLS2NunXrFvw1FHQAAAA2qLS0NHbfffd47733YtGiRcUep%2Bjq1asXu%2B66a5SWFv4D6Qo6AAAAG1W3bt3Ydddd44svvoiKiopij1M0tWrVitq1a9fYJwgUdAAAAL5WSUlJ1KlTJ%2BrUqVPsUTLLReIAAAAgAQo6AAAAJEBBBwAAgAQo6AAAAJAABR0AAAASoKADAABAAhR0AAAASICCDgAAAAlQ0AEAACABCjoAAAAkQEEHAACABCjoAAAAkAAFHQAAABKgoAMAAEACFHQAAABIgIIOAAAACVDQAQAAIAEKOgAAACRAQQcAAIAEKOgAAACQAAUdAAAAEqCgAwAAQAIUdAAAAEiAgg4AAAAJUNABAAAgAQo6AAAAJEBBBwAAgAQo6AAAAJAABR0AAAASoKADAABAAhR0AAAASICCDgAAAAlQ0AEAACABCjoAAAAkQEEHAACABCjoAAAAkAAFHQAAABKgoAMAAEACFHQAAABIgIIOAAAACVDQAQAAIAEKOgAAACRAQQcAAIAEKOgAAACQAAUdAAAAEqCgAwAAQAIUdAAAAEiAgg4AAAAJUNABAAAgAQo6AAAAJEBBBwAAgAQo6AAAAJAABR0AAAASoKADAABAAhR0AAAASICCDgAAAAlQ0AEAACABBSno7777bnz/%2B9%2BPJk2axPbbbx/77bdfvPjii4XYNAAAAGwTaue7gY8//jh69OgRhx12WIwfPz6aNm0ab7zxRjRu3LgQ8wEAAMA2Ie%2BCfu2110abNm3innvuqXxs9913z3ezAAAAsE3J%2ByPuf/jDH%2BLAAw%2BME044IZo1axb7779/3HHHHYWYDQAAALYZeRf0t99%2BO8aOHRvt27ePp59%2BOs4777y48MIL47777tvgc1atWhXLli2rcgMAAIBtWd4fcV%2B7dm0ceOCB8Ytf/CIiIvbff/949dVX4/bbb4%2BBAweu9zkjR46MESNG5PvSsEFtVz5U7BG2qHnFHgAAAMhb3kfQW7ZsGR06dKjy2L777hsLFizY4HOGDRsW5eXllbeFCxfmOwYAAABs1fI%2Bgt6jR4%2BYM2dOlcf%2B%2Bc9/xm677bbB55SVlUVZWVm%2BLw0AAACZkfcR9B/96Ecxbdq0%2BMUvfhFvvvlmPPTQQ/Gb3/wmzj///ELMBwAAANuEvAt6165d47HHHovf/va30alTp/j5z38eY8aMiVNPPbUQ8wEAAMA2Ie%2BPuEdEDBgwIAYMGFCITQEAAMA2Ke8j6AAAAED%2BFHQAAABIgIIOAAAACVDQAQAAIAEKOgAAACRAQQcAAIAEKOgAAACQAAUdAAAAEqCgAwAAQAIUdAAAAEiAgg4AAAAJUNABAAAgAQo6AAAAJEBBBwAAgAQo6AAAAJAABR0AAAASoKADAABAAhR0AAAASICCDgAAAAlQ0AEAACABCjoAAAAkQEEHAACABCjoAAAAkAAFHQAAABKgoAMAAEACFHQAAABIgIIOAAAACVDQAQAAIAEKOgAAACRAQQcAAIAEKOgAAACQAAUdAAAAEqCgAwAAQAIUdAAAAEiAgg4AAAAJUNABAAAgAQo6AAAAJEBBBwAAgAQo6AAAAJAABR0AAAASoKADAABAAhR0AAAASICCDgAAAAlQ0AEAACABCjoAAAAkQEEHAACABCjoAAAAkAAFHQAAABKgoAMAAEACFHQAAABIgIIOAAAACVDQAQAAIAEKOgAAACRAQQcAAIAEKOgAAACQAAUdAAAAEqCgAwAAQAIUdAAAAEiAgg4AAAAJUNABAAAgAQo6AAAAJEBBBwAAgAQo6AAAAJAABR0AAAASoKADAABAAhR0AAAASICCDgAAAAlQ0AEAACABCjoAAAAkQEEHAACABCjoAAAAkAAFHQAAABKgoAMAAEACFHQAAABIgIIOAAAACVDQAQAAIAF5F/Thw4dHSUlJlds%2B%2B%2BxTiNkAAABgm1G7EBvp2LFjTJw48f82WrsgmwUAAIBtRkGadO3ataNFixaF2BQAAABskwpyDvobb7wRrVq1ij322CNOPfXUWLBgQSE2CwAAANuMvI%2BgH3TQQXHvvffG3nvvHe%2B9916MGDEivv3tb8err74aDRo0WO9zVq1aFatWraq8v2zZsnzHAAAAgK1a3gW9b9%2B%2Blf/cuXPnOOigg2K33XaL//qv/4of/OAH633OyJEjY8SIEfm%2BdP6GNyr2BFvW8PJiTwAAAMAGFPxr1nbcccfYa6%2B94s0339zgOsOGDYvy8vLK28KFCws9BgAAAGxVCl7QP/3003jrrbeiZcuWG1ynrKwsGjZsWOUGAAAA27K8C/oll1wSzz33XMybNy/%2B%2Bte/xjHHHBO1atWKk08%2BuRDzAQAAwDYh73PQ33nnnTj55JPjww8/jKZNm8YhhxwS06ZNi6ZNmxZiPgAAANgm5F3Qf/e73xViDgAAANimFfwcdAAAAGDzKegAAACQAAUdAAAAEqCgAwAAQAIUdAAAAEiAgg4AAAAJUNABAAAgAQo6AAAAJEBBBwAAgAQo6AAAAJAABR0AAAASoKADAABAAhR0AAAASICCDgAAAAlQ0AEAACABCjoAAAAkQEEHAACABCjoAAAAkAAFHQAAABKgoAMAAEACFHQAAABIgIIOAAAACVDQAQAAIAEKOgAAACRAQQcAAIAEKOgAAACQAAUdAAAAEqCgAwAAQAIUdAAAAEiAgg4AAAAJUNABAAAgAQo6AAAAJEBBBwAAgAQo6AAAAJAABR0AAAASoKADAABAAhR0AAAASICCDgAAAAlQ0AEAACABCjoAAAAkQEEHAACABCjoAAAAkAAFHQAAABKgoAMAAEACFHQAAABIgIIOAAAACVDQAQAAIAEKOgAAACRAQQcAAIAEKOgAAACQAAUdAAAAEqCgAwAAQAIUdAAAAEiAgg4AAAAJUNABAAAgAQo6AAAAJEBBBwAAgAQo6AAAAJAABR0AAAASoKADAABAAhR0AAAASICCDgAAAAlQ0AEAACABCjoAAAAkQEEHAACABCjoAAAAkAAFHQAAABKgoAMAAEACFHQAAABIgIIOAAAACVDQAQAAIAEKOgAAACRAQQcAAIAEKOgAAACQAAUdAAAAEqCgAwAAQAIKXtBHjRoVJSUlcfHFFxd60wAAAJBZBS3oL7zwQvz617%2BOzp07F3KzAAAAkHkFK%2BiffvppnHrqqXHHHXdE48aNC7VZAAAA2CYUrKCff/750b9//%2Bjdu/fXrrtq1apYtmxZlRsAAABsy2oXYiO/%2B93vYtasWfHCCy9s0vojR46MESNGFOKlgW1M28ueKvYIW9S8Uf2LPcKWM7xRsSfYsoaXF3sCACAxeR9BX7hwYVx00UUxbty42G677TbpOcOGDYvy8vLK28KFC/MdAwAAALZqeR9BnzlzZixdujS%2B%2Bc1vVj5WUVERU6dOjVtuuSVWrVoVtWrVqvKcsrKyKCsry/elAQAAIDPyLuiHH354zJ49u8pjgwYNin322ScuvfTSdco5AAAAsK68C3qDBg2iU6dOVR6rX79%2BNGnSZJ3HAQAAgPUr6PegAwAAANVTkKu4/7spU6bUxGYBAAAgsxxBBwAAgAQo6AAAAJAABR0AAAASoKADAABAAhR0AAAASICCDgAAAAlQ0AEAACABCjoAAAAkQEEHAACABCjoAAAAkAAFHQAAABKgoAMAAEACFHQAAABIgIIOAAAACVDQAQAAIAEKOgAAACRAQQcAAIAEKOgAAACQAAUdAAAAEqCgAwAAQAIUdAAAAEiAgg4AAAAJUNABAAAgAQo6AAAAJEBBBwAAgAQo6AAAAJAABR0AAAASoKADAABAAhR0AAAASICCDgAAAAlQ0AEAACABCjoAAAAkQEEHAACABCjoAAAAkAAFHQAAABKgoAMAAEACFHQAAABIgIIOAAAACVDQAQAAIAEKOgAAACRAQQcAAIAEKOgAAACQAAUdAAAAEqCgAwAAQAIUdAAAAEiAgg4AAAAJUNABAAAgAQo6AAAAJEBBBwAAgAQo6AAAAJAABR0AAAASoKADAABAAhR0AAAASICCDgAAAAlQ0AEAACABCjoAAAAkQEEHAACABCjoAAAAkAAFHQAAABKgoAMAAEACFHQAAABIgIIOAAAACVDQAQAAIAEKOgAAACRAQQcAAIAEKOgAAACQAAUdAAAAEqCgAwAAQAIUdAAAAEiAgg4AAAAJUNABAAAgAQo6AAAAJEBBBwAAgAQo6AAAAJAABR0AAAASoKADAABAAvIu6GPHjo3OnTtHw4YNo2HDhtG9e/cYP358IWYDAACAbUbeBb1169YxatSomDlzZrz44ovRq1ev%2BO53vxt///vfCzEfAAAAbBNq57uBo446qsr9a665JsaOHRvTpk2Ljh075rt5AAAA2CbkXdD/VUVFRfz%2B97%2BPzz77LLp3777B9VatWhWrVq2qvL9s2bJCjgEAAABbnYIU9NmzZ0f37t1j5cqVscMOO8Rjjz0WHTp02OD6I0eOjBEjRhTipfPSduVDxR5hi5pX7AEANsJ/k2Hr0/ayp4o9whYzb1T/Yo8AbAMKchX3vffeO1566aWYPn16nHfeeTFw4MD4xz/%2BscH1hw0bFuXl5ZW3hQsXFmIMAAAA2GoV5Ah63bp1o127dhERccABB8QLL7wQN954Y/z6179e7/plZWVRVlZWiJcGAACATKiR70Ffu3ZtlXPMAQAAgI3L%2Bwj6sGHDom/fvrHrrrvG8uXL46GHHoopU6bE008/XYj5AAAAYJuQd0FfunRpnH766fHee%2B9Fo0aNonPnzvH000/HEUccUYj5AAAAYJuQd0G/6667CjEHAAAAbNNq5Bx0AAAAYPMo6AAAAJAABR0AAAASoKADAABAAhR0AAAASICCDgAAAAlQ0AEAACABCjoAAAAkQEEHAACABCjoAAAAkAAFHQAAABKgoAMAAEACFHQAAABIgIIOAAAACVDQAQAAIAEKOgAAACRAQQcAAIAEKOgAAACQAAUdAAAAEqCgAwAAQAIUdAAAAEiAgg4AAAAJUNABAAAgAQo6AAAAJEBBBwAAgAQo6AAAAJAABR0AAAASoKADAABAAhR0AAAASICCDgAAAAlQ0AEAACABCjoAAAAkQEEHAACABCjoAAAAkAAFHQAAABKgoAMAAEACFHQAAABIgIIOAAAACVDQAQAAIAEKOgAAACRAQQcAAIAEKOgAAACQAAUdAAAAEqCgAwAAQAIUdAAAAEiAgg4AAAAJUNABAAAgAQo6AAAAJEBBBwAAgAQo6AAAAJAABR0AAAASoKADAABAAhR0AAAASICCDgAAAAlQ0AEAACABCjoAAAAkQEEHAACABCjoAAAAkAAFHQAAABKgoAMAAEACFHQAAABIgIIOAAAACVDQAQAAIAEKOgAAACRAQQcAAIAEKOgAAACQAAUdAAAAEqCgAwAAQAIUdAAAAEiAgg4AAAAJUNABAAAgAQo6AAAAJEBBBwAAgAQo6AAAAJAABR0AAAASoKADAABAAvIu6CNHjoyuXbtGgwYNolmzZvG9730v5syZU4jZAAAAYJuRd0F/7rnn4vzzz49p06bFhAkTYs2aNdGnT5/47LPPCjEfAAAAbBNq57uBP//5z1Xu33vvvdGsWbOYOXNmHHroofluHgAAALYJeRf0f1deXh4RETvttNMG11m1alWsWrWq8v6yZcsKPQYAAABsVQpa0NeuXRsXX3xx9OjRIzp16rTB9UaOHBkjRowo5EsDAIlqe9lTxR5hi5k3qn%2BxR4DCGN6o2BNsOcPLiz3BFuW/yWkr6FXczz///Hj11Vfjd7/73UbXGzZsWJSXl1feFi5cWMgxAAAAYKtTsCPoF1xwQTz55JMxderUaN269UbXLSsri7KyskK9NAAAAGz18i7ouVwuhgwZEo899lhMmTIldt9990LMBQAAANuUvAv6%2BeefHw899FA88cQT0aBBg1i8eHFERDRq1Ci23377vAcEAACAbUHe56CPHTs2ysvLo2fPntGyZcvK28MPP1yI%2BQAAAGCbUJCPuAMAAAD5KehV3AEAAIDqUdABAAAgAQo6AAAAJEBBBwAAgAQo6AAAAJAABR0AAAASoKADAABAAhR0AAAASICCDgAAAAlQ0AEAACABCjoAAAAkQEEHAACABCjoAAAAkAAFHQAAABKgoAMAAEACFHQAAABIgIIOAAAACVDQAQAAIAEKOgAAACRAQQcAAIAEKOgAAACQAAUdAAAAEqCgAwAAQAIUdAAAAEiAgg4AAAAJUNABAAAgAQo6AAAAJEBBBwAAgAQo6AAAAJAABR0AAAASoKADAABAAhR0AAAASICCDgAAAAlQ0AEAACABCjoAAAAkQEEHAACABCjoAAAAkAAFHQAAABKgoAMAAEACFHQAAABIgIIOAAAACVDQAQAAIAEKOgAAACRAQQcAAIAEKOgAAACQAAUdAAAAEqCgAwAAQAIUdAAAAEiAgg4AAAAJUNABAAAgAQo6AAAAJEBBBwAAgAQo6AAAAJAABR0AAAASoKADAABAAhR0AAAASICCDgAAAAlQ0AEAACABCjoAAAAkQEEHAACABCjoAAAAkAAFHQAAABKgoAMAAEACFHQAAABIgIIOAAAACVDQAQAAIAEKOgAAACRAQQcAAIAEKOgAAACQAAUdAAAAEqCgAwAAQAIUdAAAAEiAgg4AAAAJUNABAAAgAQo6AAAAJEBBBwAAgAQUpKBPnTo1jjrqqGjVqlWUlJTE448/XojNAgAAwDajIAX9s88%2Bi2984xtx6623FmJzAAAAsM2pXYiN9O3bN/r27VuITQEAAMA2qSAFfXOtWrUqVq1aVXl/2bJlxRgDAAAAklGUgj5y5MgYMWJEMV4aAAD4Gm1XPlTsEbaYecUeAP5FUa7iPmzYsCgvL6%2B8LVy4sBhjAAAAQDKKcgS9rKwsysrKivHSAAAAkCTfgw4AAAAJKMgR9E8//TTefPPNyvtz586Nl156KXbaaafYddddC/ESAAAAkGkFKegvvvhiHHbYYZX3hw4dGhERAwcOjHvvvbcQLwEAAACZVpCC3rNnz8jlcoXYFAAAAGyTnIMOAAAACVDQAQAAIAEKOgAAACRAQQcAAIAEKOgAAACQAAUdAAAAEqCgAwAAQAIUdAAAAEiAgg4AAAAJUNABAAAgAQo6AAAAJEBBBwAAgAQo6AAAAJAABR0AAAASoKADAABAAhR0AAAASICCDgAAAAlQ0AEAACABCjoAAAAkQEEHAACABCjoAAAAkAAFHQAAABKgoAMAAEACFHQAAABIgIIOAAAACVDQAQAAIAEKOgAAACRAQQcAAIAEKOgAAACQAAUdAAAAEqCgAwAAQAIUdAAAAEiAgg4AAAAJUNABAAAgAQo6AAAAJEBBBwAAgAQo6AAAAJAABR0AAAASoKADAABAAhR0AAAASICCDgAAAAlQ0AEAACABCjoAAAAkQEEHAACABCjoAAAAkAAFHQAAABKgoAMAAEACFHQAAABIgIIOAAAACVDQAQAAIAEKOgAAACRAQQcAAIAEKOgAAACQAAUdAAAAEqCgAwAAQAIUdAAAAEiAgg4AAAAJUNABAAAgAQo6AAAAJEBBBwAAgAQo6AAAAJAABR0AAAASoKADAABAAhR0AAAASICCDgAAAAlQ0AEAACABCjoAAAAkQEEHAACABCjoAAAAkAAFHQAAABKgoAMAAEACFHQAAABIgIIOAAAACVDQAQAAIAEKOgAAACSgYAX91ltvjbZt28Z2220XBx10UMyYMaNQmwYAAIDMK0hBf/jhh2Po0KFx5ZVXxqxZs%2BIb3/hGHHnkkbF06dJCbB4AAAAyryAF/YYbboizzz47Bg0aFB06dIjbb7896tWrF3fffXchNg8AAACZl3dBX716dcycOTN69%2B79fxstLY3evXvH888/n%2B/mAQAAYJtQO98NfPDBB1FRURHNmzev8njz5s3j9ddfX%2B9zVq1aFatWraq8X15eHhERy5Yty3eczbJ21edb9PWKbUv/fotJttkl2%2BySbXZtS9luS7lGyDbLZJtdst0yr5nL5ar1/LwLenWMHDkyRowYsc7jbdq0KcI0245GY4o9ATVFttkl2%2BySbTbJNbtkm12yza5iZrt8%2BfJo1KjRZj8v74K%2B8847R61atWLJkiVVHl%2ByZEm0aNFivc8ZNmxYDB06tPL%2B2rVr46OPPoomTZpESUlJviMlbdmyZdGmTZtYuHBhNGzYsNjjUECyzS7ZZpdss0u22SXb7JJtdm1L2eZyuVi%2BfHm0atWqWs/Pu6DXrVs3DjjggJg0aVJ873vfi4gvC/ekSZPiggsuWO9zysrKoqysrMpjO%2B64Y76jbFUaNmyY%2BX85t1WyzS7ZZpdss0u22SXb7JJtdm0r2VbnyPlXCvIR96FDh8bAgQPjwAMPjG7dusWYMWPis88%2Bi0GDBhVi8wAAAJB5BSnoJ554Yrz//vvxs5/9LBYvXhxdunSJP//5z%2BtcOA4AAABYv4JdJO6CCy7Y4Efa%2BT9lZWVx5ZVXrvMRf7Z%2Bss0u2WaXbLNLttkl2%2BySbXbJdtOV5Kp7/XcAAACgYEqLPQAAAACgoAMAAEASFHQAAABIgIIOAAAACVDQAQAAIAEKOgAAACRAQS%2Bit956K3r16lXsMagBCxcujDPPPLPYY1ADZJtdss0u2WaX91LZZb/NLvvtxinoRfTpp5/Gc889V%2BwxqAEfffRR3HfffcUegxog2%2BySbXbJNru8l8ou%2B2122W83rnaxB8iym266aaPL33333S00CYX2hz/8YaPL33777S00CYUm2%2BySbXbJNru8l8ou%2B2122W/zU5LL5XLFHiKrSktLo2XLllG3bt31Ll%2B9enUsXrw4KioqtvBk5Ku0tDRKSkpiY7tPSUmJbLdCss0u2WaXbLPLe6nsst9ml/02Pz7iXoN22223GD16dMydO3e9t6eeeqrYI1JNLVu2jEcffTTWrl273tusWbOKPSLVJNvskm12yTa7vJfKLvttdtlv86Og16ADDjggZs6cucHlX/dXQ9Il2%2BySbXbJNrtkm12yzS7ZZpds8%2BMc9Bp01VVXxeeff77B5R06dIi5c%2BduwYkolB//%2BMfx2WefbXB5u3btYvLkyVtwIgpFttkl2%2BySbXZ5L5Vd9tvsst/mxznoAAAAkABH0LeQ8vLyWLx4cUREtGjRIho1alTkiSikVatWRUREWVlZkSeh0GSbXbLNLtlmk/dS2Wa/zSb77eZzDnoNu/POO6NDhw6x0047RYcOHar881133VXs8cjDhAkTol%2B/ftG4ceOoV69e1KtXLxo3bhz9%2BvWLiRMnFns88iDb7JJtdsk2u7yXyi77bXbZb6vPEfQa9Mtf/jKGDx8eF154YRx55JHRvHnziIhYsmRJPPPMM3HRRRfFxx9/HJdcckmRJ2Vz3XfffXHWWWfF8ccfH6NHj14n2379%2BsVdd90Vp512WpEnZXPJNrtkm12yzS7vpbLLfptd9ts85agxu%2B66a%2B7hhx/e4PLf/e53uTZt2mzBiSiU9u3b52655ZYNLr/11ltz7dq124ITUSiyzS7ZZpdss8t7qeyy32aX/TY/PuJeg5YuXRr77bffBpfvt99%2B8cEHH2zBiSiUBQsWRO/evTe4/PDDD4933nlnC05Eocg2u2SbXbLNLu%2Blsst%2Bm1322/wo6DWoa9euMWrUqPjiiy/WWVZRURHXXnttdO3atQiTka%2BOHTtu9PyZu%2B%2B%2BOzp06LAFJ6JQZJtdss0u2WaX91LZZb/NLvttfnzNWg165ZVX4sgjj4w1a9bEoYceWuX8i6lTp0bdunXjmWeeiU6dOhV5UjbXlClTYsCAAbHHHntE7969q2Q7adKkePvtt%2BOpp56KQw89tMiTsrlkm12yzS7ZZpf3Utllv80u%2B21%2BFPQatnz58njwwQdj2rRpVb5ioHv37nHKKadEw4YNizwh1TVv3rwYO3bserM999xzo23btsUdkGqTbXbJNrtkm13eS2WX/Ta77LfVp6ADAABAApyDvoX1798/3nvvvWKPQQ0YPHiwC15klGyzS7bZJdvs8l4qu%2By32WW/3XQK%2BhY2derUWLFiRbHHoAY8%2BOCDsWzZsmKPQQ2QbXbJNrtkm13eS2WX/Ta77LebTkGHAnG2SHbJNrtkm12yha2P/RYU9C1ut912izp16hR7DACArZL3UrD1sd9uOheJAwAAgAQ4gl5En332WUydOrXYYwDrUVFRUeX%2B9OnTY%2BrUqbFmzZoiTURNGTRoUCxatKjYY1Bga9asiTfeeCPKy8uLPQoF9Mknn8Qdd9wRV1xxRdx5553y3YrNnDmz2CNQg5YuXRrPPvts5T66ZMmSuO6662LUqFExe/bsIk%2BXNgW9iN5888047LDDij0G1bBmzZr4yU9%2BEu3atYtu3brF3XffXWX5kiVLolatWkWajny89957ccghh0RZWVl85zvfiY8//jgGDBgQ3bt3j549e0anTp1chXQr9corr6z3Nm7cuJgxY0blfbY%2B1113XeXFhyoqKuKSSy6JHXbYIfbZZ5/Yeeed48wzz/THta3UscceG//93/8dERF///vfo3379vHTn/40JkyYEJdffnnss88%2B8dprrxV5Sqqja9eu0a5du/jFL37hj6QZM2XKlNhjjz2id%2B/esc8%2B%2B8TLL78cBx54YNx5551x7733RteuXeOZZ54p9pjJUtChGq655pq4//7749xzz40%2BffrE0KFD45xzzqmyjrNHtk6XXnpp5HK5eOyxx6Jly5YxYMCAWLZsWSxcuDDmzZsXTZs2jWuuuabYY1INXbp0if333z%2B6dOlS5fbFF1/EcccdV7mcrc%2BwYcNi%2BfLlERExevTouPvuu%2BP222%2BP2bNnx7333htPPfVUjB49ushTUh1TpkyJTp06RUTEj3/84%2BjTp0%2B88847MW3atFi4cGH0798/Lr744uIOSbX16tUrbrzxxthtt91iwIAB8fjjj6/zCTa2PldccUWcccYZsWzZsvh//%2B//Rf/%2B/eO73/1u/POf/4zXX389hgwZEiNGjCj2mMlyDnoN2mmnnTa6vKKiIj799FP/IdoKtW/fPkaPHh0DBgyIiC8/DdG3b9845JBD4u67746lS5dGq1atZLsVatWqVTz66KPxrW99Kz766KPYeeedY8KECXH44YdHRMSzzz4bZ599drz11ltFnpTN1aVLl2jdunX86le/iu233z4ivvxDWvv27WP8%2BPHRvn37iPjyQjZsXUpLS2Px4sXRrFmz%2BOY3vxnnnntu/PCHP6xcPm7cuBg5cmS8%2BuqrRZyS6qhXr17Mnj079txzz2jVqlU89dRTVf6Q9s9//jO6desWn3zySfGGpFq%2B2m932mmneOKJJ%2BLuu%2B%2BOp59%2BOnbeeecYOHBg/OAHP4i99tqr2GNSDY0aNYpZs2bFnnvuGV988UVsv/328cILL0SXLl0iIuKNN96Irl272m83oHaxB8iyVatWxXnnnRf77bffepfPnz/fX4%2B2Uu%2B%2B%2B27lX/QjItq1axdTpkyJXr16xWmnnRbXXXddEacjHx9//HHssssuEfHlH9nq1atXpbC1a9fOR9y3UjNmzIif/OQncdxxx8WDDz5Y5U1%2Bq1atFPOtXElJSURELFiwIA4%2B%2BOAqyw4%2B%2BOCYO3duMcYiT507d45nn3029txzz2jRokXMnz%2B/yr47f/78yj%2B4sXWqXbt2HHfccXHcccfFu%2B%2B%2BG3fffXfce%2B%2B98atf/Sp69Ojhek1bobp168bKlSsjImL16tWxdu3ayvsREStWrHBF941Q0GtQly5dok2bNjFw4MD1Ln/55ZcV9K1UixYt4q233oq2bdtWPrbLLrvE5MmT47DDDoszzjijaLORn2bNmsV7770Xbdq0iYiICy64oMqnYT7%2B%2BOOoX79%2BscYjD3Xr1o0xY8bE%2BPHj4%2Bijj47BgwfHpZdeWuyxKJA77rgjdthhh6hbt2589NFHVZYtX748ysrKijQZ%2Bbjiiivi9NNPjzp16sSFF14YP/rRj%2BLDDz%2BMfffdN%2BbMmRNXXnllnHbaacUek2r46o9q/2qXXXaJK664Iq644oqYNGnSOtf4YevQo0ePuOyyy%2BKyyy6L%2B%2B%2B/P775zW/G1VdfHQ8//HCUlJTEz3/%2B8zjwwAOLPWayFPQa1L9//41%2BdGOnnXaK008/fcsNRMH06tUrHnroocqPPX%2BlVatW8eyzz0bPnj2LMxh569KlSzz//PPRrVu3iIgYNWpUleX/%2B7//G507dy7GaBRI375948UXX4xBgwbF%2BPHjiz0OBbDrrrvGHXfcERERZWVlMWvWrDj00EMrl0%2BePDn23nvvYo1HHvr37x%2B/%2Bc1v4uKLL45FixZFLpeLs88%2BOyK%2BzPrcc8%2BNkSNHFnlKquPrzrI9/PDD13mfxdbhl7/8ZfTv3z%2B%2B/e1vxz777BMTJkyIwYMHx4477hgREY0bN44///nPxR0yYc5Bh2qYP39%2BvP7663HkkUeud/miRYtiwoQJG/z0BFuvGTNmRL169aqc4sDW66abborJkyfHzTffHK1bty72ONSQadOmRVlZmYsAbsUqKipi5syZMXfu3Fi7dm20bNkyDjjggGjQoEGxR6OannvuuejRo0fUru14YVZ9%2BOGH0aRJk8r7kyZNihUrVkT37t2rPE5VCjoAAAAkwJ%2Bsatjq1avj8ccfj%2Beffz4WL14cEV%2Bev3zwwQfHd7/73ahbt26RJ6S6ZJtdss0u2WaXbLNLttkl2%2BySbfU5gl6D3nzzzTjyyCNj0aJFcdBBB0Xz5s0jImLJkiUxffr0aN26dYwfPz7atWtX5EnZXLLNLtlml2yzS7bZJdvskm12yTY/CnoNOuKII6J%2B/fpx//33R8OGDassW7ZsWZx%2B%2BumxYsWKePrpp4s0IdUl2%2BySbXbJNrtkm12yzS7ZZpds86Og16B69erFjBkzNngxqdmzZ8dBBx0Un3/%2B%2BRaejHzJNrtkm12yzS7ZZpdss0u22SXb/JQWe4As23HHHWPevHkbXD5v3rzKrxtg6yLb7JJtdsk2u2SbXbLNLtlml2zz4yJxNeiss86K008/Pa644oo4/PDDq5x/MWnSpLj66qtjyJAhRZ6S6pBtdsk2u2SbXbLNLtlml2yzS7Z5ylGjRo0alWvZsmWupKQkV1pamistLc2VlJTkWrZsmbv22muLPR55kG12yTa7ZJtdss0u2WaXbLNLttXnHPQtZO7cuVW%2BYmD33Xcv8kQUimyzS7bZJdvskm12yTa7ZJtdst18zkHfQnbffffo3r17rF27Nlq1alXscSgg2WaXbLNLttkl2%2BySbXbJNrtku/kcQd/CGjZsGC%2B99FLssccexR6FApNtdsk2u2SbXbLNLtlml2yzS7abzhH0LczfQ7JLttkl2%2BySbXbJNrtkm12yzS7ZbjoFHQAAABKgoG9hv/71ryu/aoBskW12yTa7ZJtdss0u2WaXbLNLtpvOOegAAACQAEfQa9jLL78cV199ddx2223xwQcfVFm2bNmyOPPMM4s0GfmSbXbJNrtkm12yzS7ZZpdss0u21ecIeg165pln4qijjor27dvH8uXL47PPPovf//73cdhhh0VExJIlS6JVq1ZRUVFR5EnZXLLNLtlml2yzS7bZJdvskm12yTZPOWpM9%2B7dc//5n/%2BZy%2BVyubVr1%2Bauvfba3A477JAbP358LpfL5RYvXpwrLS0t5ohUk2yzS7bZJdvskm12yTa7ZJtdss2Pgl6DGjZsmHvzzTerPDZu3Lhc/fr1c3/84x/9y7kVk212yTa7ZJtdss0u2WaXbLNLtvmpXewj%2BFlWVlYWn3zySZXHTjnllCgtLY0TTzwxrr/%2B%2BuIMRt5km12yzS7ZZpdss0u22SXb7JJtfhT0GtSlS5eYPHlyHHDAAVUeP%2BmkkyKXy8XAgQOLNBn5km12yTa7ZJtdss0u2WaXbLNLtvlR0GvQeeedF1OnTl3vspNPPjlyuVzccccdW3gqCkG22SXb7JJtdsk2u2SbXbLNLtnmx1XcAQAAIAG%2BBx0AAAASoKDXsNtuuy169%2B4d//Ef/xGTJk2qsuyDDz6IPfbYo0iTkS/ZZpdss0u22SXb7JJtdsk2u2RbfQp6Dbrpppvixz/%2Bceyzzz5RVlYW/fr1i5EjR1Yur6ioiPnz5xdxQqpLttkl2%2BySbXbJNrtkm12yzS7Z5mlLf6/btqRDhw65cePGVd7/y1/%2BkmvatGnuiiuuyOVyOd8BuBWTbXbJNrtkm12yzS7ZZpdss0u2%2BXEV9xo0d%2B7cOPjggyvvH3zwwfHss89G7969Y82aNXHxxRcXbzjyItvskm12yTa7ZJtdss0u2WaXbPOjoNegnXfeORYuXBht27atfKxTp07x7LPPRq9evWLRokXFG468yDa7ZJtdss0u2WaXbLNLttkl2/w4B70GHXLIIfHoo4%2Bu83iHDh1i0qRJMX78%2BCJMRSHINrtkm12yzS7ZZpdss0u22SXb/DiCXoMuu%2ByymDlz5nqXdezYMZ599tl45JFHtvBUFIJss0u22SXb7JJtdsk2u2SbXbLNT0kul8sVewgAAADY1jmCvgXMmDEjnn/%2B%2BVi8eHFERLRo0SK6d%2B8e3bp1K/Jk5Eu22SXb7JJtdsk2u2SbXbLNLtlWjyPoNWjp0qVx7LHHxl//%2BtfYddddo3nz5hERsWTJkliwYEH06NEjHnnkkWjWrFmRJ2VzyTa7ZJtdss0u2WaXbLNLttkl2/y4SFwNGjx4cKxduzZee%2B21mDdvXkyfPj2mT58e8%2BbNi9deey3Wrl0b559/frHHpBpkm12yzS7ZZpdss0u22SXb7JJtfhxBr0ENGjSIqVOnxv7777/e5TNnzoyePXvG8uXLt/Bk5Eu22SXb7JJtdsk2u2SbXbLNLtnmxxH0GlRWVhbLli3b4PLly5dHWVnZFpyIQpFtdsk2u2SbXbLNLtlml2yzS7b5UdBr0IknnhgDBw6Mxx57rMq/pMuWLYvHHnssBg0aFCeffHIRJ6S6ZJtdss0u2WaXbLNLttkl2%2BySbZ5y1JiVK1fmzj333FzdunVzpaWlue222y633Xbb5UpLS3N169bNnXfeebmVK1cWe0yqQbbZJdvskm12yTa7ZJtdss0u2ebHOehbwLJly2LmzJlVvmLggAMOiIYNGxZ5MvIl2%2BySbXbJNrtkm12yzS7ZZpdsq0dBBwAAgAQ4B72GrVixIv73f/83/vGPf6yzbOXKlXH//fcXYSoKQbbZJdvskm12yTa7ZJtdss0u2eahuJ%2Bwz7Y5c%2Bbkdtttt1xJSUmutLQ0d%2Bihh%2BbefffdyuWLFy/OlZaWFnFCqku22SXb7JJtdsk2u2SbXbLNLtnmxxH0GnTppZdGp06dYunSpTFnzpxo0KBBHHLIIbFgwYJij0aeZJtdss0u2WaXbLNLttkl2%2BySbX6cg16DmjdvHhMnToz99tsvIiJyuVwMHjw4/vSnP8XkyZOjfv360apVq6ioqCjypGwu2WaXbLNLttkl2%2BySbXbJNrtkmx9H0GvQihUronbt2pX3S0pKYuzYsXHUUUfFd77znfjnP/9ZxOnIh2yzS7bZJdvskm12yTa7ZJtdss1P7a9fheraZ5994sUXX4x99923yuO33HJLREQcffTRxRiLApBtdsk2u2SbXbLNLtlml2yzS7b5cQS9Bh1zzDHx29/%2Bdr3Lbrnlljj55JPDGQZbJ9lml2yzS7bZJdvskm12yTa7ZJsf56ADAABAAhxBBwAAgAQo6AAAAJAABR0AAAASoKADABs1fPjw6NKlS7HHAIDMU9ABgEolJSXx%2BOOPF3sMANgmKegAAACQAAUdABLUs2fPGDJkSFx88cXRuHHjaN68edxxxx3x2WefxaBBg6JBgwbRrl27GD9%2BfOVznnvuuejWrVuUlZVFy5Yt47LLLosvvviiyjYvvPDC%2BMlPfhI77bRTtGjRIoYPH165vG3bthHx5XfYlpSUVN7/ygMPPBBt27aNRo0axUknnRTLly%2BvyV8BAGxzFHQASNR9990XO%2B%2B8c8yYMSOGDBkS5513Xpxwwglx8MEHx6xZs6JPnz5x2mmnxeeffx7vvvtu9OvXL7p27Rovv/xyjB07Nu666664%2Buqr19lm/fr1Y/r06XHdddfFVVddFRMmTIiIiBdeeCEiIu6555547733Ku9HRLz11lvx%2BOOPx5NPPhlPPvlkPPfcczFq1Kgt98sAgG1ASS6XyxV7CACgqp49e0ZFRUX8z//8T0REVFRURKNGjeLYY4%2BN%2B%2B%2B/PyIiFi9eHC1btoznn38%2B/vjHP8YjjzwSr732WpSUlERExG233RaXXnpplJeXR2lp6TrbjIjo1q1b9OrVq7Jsl5SUxGOPPRbf%2B973KtcZPnx4/PKXv4zFixdHgwYNIiLiJz/5SUydOjWmTZu2JX4dALBNcAQdABLVuXPnyn%2BuVatWNGnSJPbbb7/Kx5o3bx4REUuXLo3XXnstunfvXlnOIyJ69OgRn376abzzzjvr3WZERMuWLWPp0qVfO0vbtm0ry/nmPA8A2HQKOgAkqk6dOlXul5SUVHnsqzK%2Bdu3avLa5Kc%2Bv7vMAgE2noANABuy7777x/PPPx7%2BeufaXv/wlGjRoEK1bt97k7dSpUycqKipqYkQA4Gso6ACQAYMHD46FCxfGkCFD4vXXX48nnngirrzyyhg6dGiUlm76/%2B7btm0bkyZNisWLF8fHH39cgxMDAP9OQQeADNhll13iT3/6U8yYMSO%2B8Y1vxLnnnhs/%2BMEP4vLLL9%2Bs7Vx//fUxYcKEaNOmTey///41NC0AsD6u4g4AAAAJcAQdAAAAEqCgAwAAQAIUdAAAAEiAgg4AAAAJUNABAAAgAQo6AAAAJEBBBwAAgAQo6AAAAJAABR0AAAASoKADAABAAhR0AAAASICCDgAAAAlQ0AEAACABCjoAAAAkQEEHAACABCjoAAAAkAAFHQAAABKgoAMAAEAC/j9X7iIHpdEYTwAAAABJRU5ErkJggg%3D%3D"
     },
     "metadata": {},
     "output_type": "display_data",
     "source": "kernel"
    }
   ],
   "source": [
    "create chart as bar_chart where x = month and stacked = true and title = 'P1 and P2 Incidents'"
   ]
  },
  {
   "cell_type": "markdown",
   "id": "60fd988b-a16c-46cc-8957-41ab9f7c6fcd",
   "metadata": {},
   "source": [
    "email notebook to 'scottp@berkeleyzone.net'"
   ]
  },
  {
   "cell_type": "code",
   "execution_count": 2,
   "id": "d6ad4ca4-d180-4c12-a475-8ea0118b4b12",
   "metadata": {},
   "outputs": [
    {
     "name": "stdout",
     "output_type": "stream",
     "text": [
      "0 rows"
     ]
    },
    {
     "data": {
      "text/html": [
       "<table border=\"1\" class=\"dataframe\">\n",
       "  <thead>\n",
       "    <tr style=\"text-align: right;\">\n",
       "    </tr>\n",
       "  </thead>\n",
       "  <tbody>\n",
       "  </tbody>\n",
       "</table>"
      ],
      "text/plain": [
       "Empty DataFrame\n",
       "Columns: []\n",
       "Index: []"
      ]
     },
     "metadata": {},
     "output_type": "display_data",
     "source": "kernel"
    }
   ],
   "source": [
    "truncate papertrail.systems"
   ]
  },
  {
   "cell_type": "code",
   "execution_count": 4,
   "id": "46d97ee9-a120-481f-a0ba-0e0b2736abb4",
   "metadata": {},
   "outputs": [
    {
     "name": "stdout",
     "output_type": "stream",
     "text": [
      "Scheduled to run notebook Incident Stats.ipynb"
     ]
    }
   ],
   "source": [
    "run at 12:00"
   ]
  },
  {
   "cell_type": "code",
   "execution_count": null,
   "id": "bec30c66-c38d-4b8f-8e52-b9bc69f47bac",
   "metadata": {},
   "outputs": [],
   "source": []
  }
 ],
 "metadata": {
  "kernelspec": {
   "display_name": "Unify",
   "language": "text",
   "name": "unify_kernel"
  },
  "language_info": {
   "file_extension": ".txt",
   "mimetype": "text/plain",
   "name": "text"
  }
 },
 "nbformat": 4,
 "nbformat_minor": 5
}

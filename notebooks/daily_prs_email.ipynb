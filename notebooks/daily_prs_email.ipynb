{
 "cells": [
  {
   "cell_type": "markdown",
   "id": "595ce01f-4d6c-4379-b8c0-e66b6361647b",
   "metadata": {},
   "source": [
    "## Daily PR list"
   ]
  },
  {
   "cell_type": "code",
   "execution_count": 1,
   "id": "d6b104a5-ad70-4265-bb4c-c467d0bb6d37",
   "metadata": {},
   "outputs": [
    {
     "name": "stdout",
     "output_type": "stream",
     "text": [
      "6 rows"
     ]
    },
    {
     "data": {
      "text/html": [
       "<table border=\"1\" class=\"dataframe\">\n",
       "  <thead>\n",
       "    <tr style=\"text-align: right;\">\n",
       "      <th>number</th>\n",
       "      <th>head_repo_name</th>\n",
       "      <th>created_at</th>\n",
       "      <th>user_login</th>\n",
       "      <th>title</th>\n",
       "      <th>left_body__200_</th>\n",
       "    </tr>\n",
       "  </thead>\n",
       "  <tbody>\n",
       "    <tr>\n",
       "      <td>8957</td>\n",
       "      <td>philo</td>\n",
       "      <td>2022-10-10 14:13:13</td>\n",
       "      <td>andresgoag</td>\n",
       "      <td><a href=\"https://github.com/tatari-tv/philo/pull/8957\">fixed check file of composite parsers</a></td>\n",
       "      <td># Summary\\r\\nFixed parsers that are receiving emails from matching emails, but the parser is still not matched. \\r\\n\\r\\nFixes # [(link to jira tickets)](https://tatari.atlassian.net/browse/FENG-191)\\r\\n\\r\\n# Te</td>\n",
       "    </tr>\n",
       "    <tr>\n",
       "      <td>863</td>\n",
       "      <td>helm-charts</td>\n",
       "      <td>2022-10-10 09:21:17</td>\n",
       "      <td>dansc0de</td>\n",
       "      <td><a href=\"https://github.com/tatari-tv/helm-charts/pull/863\">SRE-1584 Create Clearance Predictor ArgoCD apps</a></td>\n",
       "      <td><details>\\r\\n<summary> argocd app diff: </summary>\\r\\n\\r\\n```\\r\\n\\r\\nINFO[0002] kustomize build overlays/staging              dir= execID=66ec7\\r\\nINFO[0002] Trace                                         args=\"[k</td>\n",
       "    </tr>\n",
       "    <tr>\n",
       "      <td>1796</td>\n",
       "      <td>grey-matter</td>\n",
       "      <td>2022-10-10 13:59:33</td>\n",
       "      <td>ellen-x</td>\n",
       "      <td><a href=\"https://github.com/tatari-tv/grey-matter/pull/1796\">[staging]RAD-18158: TRA add params</a></td>\n",
       "      <td></td>\n",
       "    </tr>\n",
       "    <tr>\n",
       "      <td>8958</td>\n",
       "      <td>philo</td>\n",
       "      <td>2022-10-10 17:06:50</td>\n",
       "      <td>lucas-baik-ttv</td>\n",
       "      <td><a href=\"https://github.com/tatari-tv/philo/pull/8958\">MCORE-314: Alerting Threshold Setting</a></td>\n",
       "      <td>### Summary\\r\\n\\r\\nJira: https://tatari.atlassian.net/browse/MCORE-314\\r\\n\\r\\n- Adds an Opsgenie alerting threshold setting. If the percentage of clients missing metrics data do not go over the pre-configured</td>\n",
       "    </tr>\n",
       "    <tr>\n",
       "      <td>4239</td>\n",
       "      <td>philo-fe</td>\n",
       "      <td>2022-10-10 11:21:29</td>\n",
       "      <td>sevenfour</td>\n",
       "      <td><a href=\"https://github.com/tatari-tv/philo-fe/pull/4239\">[TDS-66] CheckboxField margin and padding style props</a></td>\n",
       "      <td># Summary\\r\\n\\r\\nThis PR adds `margin` and `padding` style props to the `CheckboxField` component, so TDS `space` values can be used for those ones without the need for importing `theme` or using SC. \\r\\n\\r\\n</td>\n",
       "    </tr>\n",
       "    <tr>\n",
       "      <td>4240</td>\n",
       "      <td>philo-fe</td>\n",
       "      <td>2022-10-10 13:16:39</td>\n",
       "      <td>sevenfour</td>\n",
       "      <td><a href=\"https://github.com/tatari-tv/philo-fe/pull/4240\">[TDS-65] - Tooltip always visible mode</a></td>\n",
       "      <td># Summary\\r\\n\\r\\nThis PR adds the `isVisible` prop to the `Tooltip` component, so it can be rendered always visible for the debugging purposes. \\r\\n\\r\\nTicket # [TDS-65](https://tatari.atlassian.net/jira/soft</td>\n",
       "    </tr>\n",
       "  </tbody>\n",
       "</table>"
      ],
      "text/plain": [
       " number head_repo_name          created_at     user_login                                                                                                               title                                                                                                                                                                                                      left_body__200_\n",
       "   8957          philo 2022-10-10 14:13:13     andresgoag                    <a href=\"https://github.com/tatari-tv/philo/pull/8957\">fixed check file of composite parsers</a>   # Summary\\r\\nFixed parsers that are receiving emails from matching emails, but the parser is still not matched. \\r\\n\\r\\nFixes # [(link to jira tickets)](https://tatari.atlassian.net/browse/FENG-191)\\r\\n\\r\\n# Te\n",
       "    863    helm-charts 2022-10-10 09:21:17       dansc0de     <a href=\"https://github.com/tatari-tv/helm-charts/pull/863\">SRE-1584 Create Clearance Predictor ArgoCD apps</a> <details>\\r\\n<summary> argocd app diff: </summary>\\r\\n\\r\\n```\\r\\n\\r\\nINFO[0002] kustomize build overlays/staging              dir= execID=66ec7\\r\\nINFO[0002] Trace                                         args=\"[k\n",
       "   1796    grey-matter 2022-10-10 13:59:33        ellen-x                 <a href=\"https://github.com/tatari-tv/grey-matter/pull/1796\">[staging]RAD-18158: TRA add params</a>                                                                                                                                                                                                                     \n",
       "   8958          philo 2022-10-10 17:06:50 lucas-baik-ttv                    <a href=\"https://github.com/tatari-tv/philo/pull/8958\">MCORE-314: Alerting Threshold Setting</a>     ### Summary\\r\\n\\r\\nJira: https://tatari.atlassian.net/browse/MCORE-314\\r\\n\\r\\n- Adds an Opsgenie alerting threshold setting. If the percentage of clients missing metrics data do not go over the pre-configured\n",
       "   4239       philo-fe 2022-10-10 11:21:29      sevenfour <a href=\"https://github.com/tatari-tv/philo-fe/pull/4239\">[TDS-66] CheckboxField margin and padding style props</a>     # Summary\\r\\n\\r\\nThis PR adds `margin` and `padding` style props to the `CheckboxField` component, so TDS `space` values can be used for those ones without the need for importing `theme` or using SC. \\r\\n\\r\\n\n",
       "   4240       philo-fe 2022-10-10 13:16:39      sevenfour                <a href=\"https://github.com/tatari-tv/philo-fe/pull/4240\">[TDS-65] - Tooltip always visible mode</a>     # Summary\\r\\n\\r\\nThis PR adds the `isVisible` prop to the `Tooltip` component, so it can be rendered always visible for the debugging purposes. \\r\\n\\r\\nTicket # [TDS-65](https://tatari.atlassian.net/jira/soft"
      ]
     },
     "metadata": {},
     "output_type": "display_data",
     "source": "kernel"
    }
   ],
   "source": [
    "$prs = select * from (\n",
    "  select number, head_repo_name, created_at, user_login, ('<a href=\"' || html_url || '\">' || title || '</a>') as title, left(body, 200) from github.pulls \n",
    "  where created_at > (now() - interval 24 hour)\n",
    ") order by user_login, created_at"
   ]
  },
  {
   "cell_type": "code",
   "execution_count": 2,
   "id": "0c357216-b3a0-4e46-b220-c3693f3c1e93",
   "metadata": {},
   "outputs": [
    {
     "name": "stdout",
     "output_type": "stream",
     "text": [
      "Daily PRs 2022-09-10"
     ]
    }
   ],
   "source": [
    "$subject = (select 'Daily PRs ' || cast(today() as VARCHAR))"
   ]
  },
  {
   "cell_type": "code",
   "execution_count": 3,
   "id": "fad3c412-edcf-41b4-91aa-a9f2f7bc6889",
   "metadata": {},
   "outputs": [
    {
     "name": "stdout",
     "output_type": "stream",
     "text": [
      "Emailing prs__actualized to ['scottp@berkeleyzone.net', 'scott@tatari.tv']"
     ]
    }
   ],
   "source": [
    "email $prs to 'scottp@berkeleyzone.net,scott@tatari.tv' subject $subject"
   ]
  },
  {
   "cell_type": "code",
   "execution_count": 7,
   "id": "cac5c123-a47c-4de4-bdcd-306064174da5",
   "metadata": {},
   "outputs": [
    {
     "name": "stdout",
     "output_type": "stream",
     "text": [
      "Scheduled to run notebook daily_prs_email.ipynb"
     ]
    }
   ],
   "source": [
    "run every day starting at 08:20"
   ]
  },
  {
   "cell_type": "code",
   "execution_count": null,
   "id": "48caa07c-01a0-40e7-a8be-29af65076d4b",
   "metadata": {
    "tags": [
     "skip_commands"
    ]
   },
   "outputs": [],
   "source": []
  }
 ],
 "metadata": {
  "kernelspec": {
   "display_name": "Unify",
   "language": "text",
   "name": "unify_kernel"
  },
  "language_info": {
   "file_extension": ".txt",
   "mimetype": "text/plain",
   "name": "text"
  }
 },
 "nbformat": 4,
 "nbformat_minor": 5
}

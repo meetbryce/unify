{
 "cells": [
  {
   "cell_type": "markdown",
   "id": "595ce01f-4d6c-4379-b8c0-e66b6361647b",
   "metadata": {},
   "source": [
    "## Daily PR list"
   ]
  },
  {
   "cell_type": "code",
   "execution_count": 4,
   "id": "d6b104a5-ad70-4265-bb4c-c467d0bb6d37",
   "metadata": {},
   "outputs": [
    {
     "name": "stdout",
     "output_type": "stream",
     "text": [
      "7 rows"
     ]
    },
    {
     "data": {
      "text/html": [
       "<table border=\"1\" class=\"dataframe\">\n",
       "  <thead>\n",
       "    <tr style=\"text-align: right;\">\n",
       "      <th>number</th>\n",
       "      <th>head_repo_name</th>\n",
       "      <th>created_at</th>\n",
       "      <th>user_login</th>\n",
       "      <th>title</th>\n",
       "      <th>body</th>\n",
       "    </tr>\n",
       "  </thead>\n",
       "  <tbody>\n",
       "    <tr>\n",
       "      <td>8567</td>\n",
       "      <td>philo</td>\n",
       "      <td>2022-08-29 07:29:10</td>\n",
       "      <td>dog-face</td>\n",
       "      <td>MBP-4552 add search fields to CreativeApprovals for canconical_code, company_name</td>\n",
       "      <td># Summary\\r\\n\\r\\nhttps://tatari.atlassian.net/browse/MBP-4552\\r\\njust add searchability by company name and canonical_code.</td>\n",
       "    </tr>\n",
       "    <tr>\n",
       "      <td>6</td>\n",
       "      <td>python-beeswax-client</td>\n",
       "      <td>2022-08-29 08:03:40</td>\n",
       "      <td>georgegaytan</td>\n",
       "      <td>PROG-330/Set BeeswaxCreative active default to True</td>\n",
       "      <td></td>\n",
       "    </tr>\n",
       "    <tr>\n",
       "      <td>8569</td>\n",
       "      <td>philo</td>\n",
       "      <td>2022-08-29 08:35:44</td>\n",
       "      <td>lrod</td>\n",
       "      <td>tri-4803: hot fix staging GA slug not exists</td>\n",
       "      <td>* rocketmoney slug does not exists. GA failing.</td>\n",
       "    </tr>\n",
       "    <tr>\n",
       "      <td>1198</td>\n",
       "      <td>terraform</td>\n",
       "      <td>2022-08-29 07:36:40</td>\n",
       "      <td>margot-tatari</td>\n",
       "      <td>sre-1394: create non-environment prefixed  ecr for tracker lambdas</td>\n",
       "      <td></td>\n",
       "    </tr>\n",
       "    <tr>\n",
       "      <td>762</td>\n",
       "      <td>helm-charts</td>\n",
       "      <td>2022-08-29 07:56:39</td>\n",
       "      <td>margot-tatari</td>\n",
       "      <td>sre-1394: create staging argocd for tracker-lambdas</td>\n",
       "      <td><details>\\r\\n<summary> argocd app diff: </summary>\\r\\n\\r\\n```\\r\\n\\r\\n\\r\\n```\\r\\n\\r\\n<!-- paste relevant helm chart/Kustomization diff in the above code block -->\\r\\n</details>\\r\\n</td>\n",
       "    </tr>\n",
       "    <tr>\n",
       "      <td>19</td>\n",
       "      <td>tracker-lambdas</td>\n",
       "      <td>2022-08-29 08:45:17</td>\n",
       "      <td>margot-tatari</td>\n",
       "      <td>sre-1390: update pipeline to use new ecr</td>\n",
       "      <td></td>\n",
       "    </tr>\n",
       "    <tr>\n",
       "      <td>8568</td>\n",
       "      <td>philo</td>\n",
       "      <td>2022-08-29 07:59:34</td>\n",
       "      <td>waegerter</td>\n",
       "      <td>apc-76a: LEVEL0 add dashboard_groups dimension table</td>\n",
       "      <td># Summary\\r\\n\\r\\nAdd dashboard_groups dimension table and corresponding reference from booking_units table. See Tech Plan: Inventory Dimensions for details.\\r\\n\\r\\nThis is the first of ~5 PRs for APC-76.\\r\\n\\r\\n# Testing Steps\\r\\n\\r\\nTested locally.\\r\\n\\r\\n# Migrations\\r\\n\\r\\nThis is staged as a LEVEL0 migration. It requires an exclusive lock on only one table (booking_units) that it doesn't create.\\r\\n</td>\n",
       "    </tr>\n",
       "  </tbody>\n",
       "</table>"
      ],
      "text/plain": [
       " number        head_repo_name          created_at    user_login                                                                             title                                                                                                                                                                                                                                                                                                                                                                                                                   body\n",
       "   8567                 philo 2022-08-29 07:29:10      dog-face MBP-4552 add search fields to CreativeApprovals for canconical_code, company_name                                                                                                                                                                                                                                                                                           # Summary\\r\\n\\r\\nhttps://tatari.atlassian.net/browse/MBP-4552\\r\\njust add searchability by company name and canonical_code. \n",
       "      6 python-beeswax-client 2022-08-29 08:03:40  georgegaytan                               PROG-330/Set BeeswaxCreative active default to True                                                                                                                                                                                                                                                                                                                                                                                                                       \n",
       "   8569                 philo 2022-08-29 08:35:44          lrod                                     tri-4803: hot fix staging GA slug not exists                                                                                                                                                                                                                                                                                                                                                                         * rocketmoney slug does not exists. GA failing.\n",
       "   1198             terraform 2022-08-29 07:36:40 margot-tatari                sre-1394: create non-environment prefixed  ecr for tracker lambdas                                                                                                                                                                                                                                                                                                                                                                                                                       \n",
       "    762           helm-charts 2022-08-29 07:56:39 margot-tatari                               sre-1394: create staging argocd for tracker-lambdas                                                                                                                                                                                                                                    <details>\\r\\n<summary> argocd app diff: </summary>\\r\\n\\r\\n```\\r\\n\\r\\n\\r\\n```\\r\\n\\r\\n<!-- paste relevant helm chart/Kustomization diff in the above code block -->\\r\\n</details>\\r\\n\n",
       "     19       tracker-lambdas 2022-08-29 08:45:17 margot-tatari                                          sre-1390: update pipeline to use new ecr                                                                                                                                                                                                                                                                                                                                                                                                                       \n",
       "   8568                 philo 2022-08-29 07:59:34     waegerter                              apc-76a: LEVEL0 add dashboard_groups dimension table # Summary\\r\\n\\r\\nAdd dashboard_groups dimension table and corresponding reference from booking_units table. See Tech Plan: Inventory Dimensions for details.\\r\\n\\r\\nThis is the first of ~5 PRs for APC-76.\\r\\n\\r\\n# Testing Steps\\r\\n\\r\\nTested locally.\\r\\n\\r\\n# Migrations\\r\\n\\r\\nThis is staged as a LEVEL0 migration. It requires an exclusive lock on only one table (booking_units) that it doesn't create.\\r\\n"
      ]
     },
     "metadata": {},
     "output_type": "display_data",
     "source": "kernel"
    }
   ],
   "source": [
    "$prs = select * from (\n",
    "  select number, head_repo_name, created_at, user_login, title, body from github.pulls \n",
    "  where created_at > (now() - interval 24 hour)\n",
    ") order by user_login, created_at"
   ]
  },
  {
   "cell_type": "code",
   "execution_count": null,
   "id": "fad3c412-edcf-41b4-91aa-a9f2f7bc6889",
   "metadata": {},
   "outputs": [],
   "source": [
    "email $prs to 'scottp@berkeleyzone.net' subject 'Daily PRs'"
   ]
  },
  {
   "cell_type": "code",
   "execution_count": 7,
   "id": "cac5c123-a47c-4de4-bdcd-306064174da5",
   "metadata": {},
   "outputs": [
    {
     "name": "stdout",
     "output_type": "stream",
     "text": [
      "Scheduled to run notebook daily_prs_email.ipynb"
     ]
    }
   ],
   "source": [
    "run every day starting at 07:25"
   ]
  },
  {
   "cell_type": "code",
   "execution_count": null,
   "id": "48caa07c-01a0-40e7-a8be-29af65076d4b",
   "metadata": {
    "tags": [
     "skip_commands"
    ]
   },
   "outputs": [],
   "source": []
  }
 ],
 "metadata": {
  "kernelspec": {
   "display_name": "Unify",
   "language": "text",
   "name": "unify_kernel"
  },
  "language_info": {
   "file_extension": ".txt",
   "mimetype": "text/plain",
   "name": "text"
  }
 },
 "nbformat": 4,
 "nbformat_minor": 5
}

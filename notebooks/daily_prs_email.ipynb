{
 "cells": [
  {
   "cell_type": "markdown",
   "id": "595ce01f-4d6c-4379-b8c0-e66b6361647b",
   "metadata": {},
   "source": [
    "## Daily PR list"
   ]
  },
  {
   "cell_type": "code",
   "execution_count": 1,
   "id": "d6b104a5-ad70-4265-bb4c-c467d0bb6d37",
   "metadata": {},
   "outputs": [
    {
     "name": "stdout",
     "output_type": "stream",
     "text": [
      "0 rows"
     ]
    },
    {
     "data": {
      "text/html": [
       "<table border=\"1\" class=\"dataframe\">\n",
       "  <thead>\n",
       "    <tr style=\"text-align: right;\">\n",
       "    </tr>\n",
       "  </thead>\n",
       "  <tbody>\n",
       "  </tbody>\n",
       "</table>"
      ],
      "text/plain": [
       "Empty DataFrame\n",
       "Columns: []\n",
       "Index: []"
      ]
     },
     "metadata": {},
     "output_type": "display_data",
     "source": "kernel"
    }
   ],
   "source": [
    "$prs = select * from (\n",
    "  select number, head_repo_name, created_at, user_login, ('<a href=\"' || html_url || '\">' || title || '</a>') as title, left(body, 200) from github.pulls \n",
    "  where created_at > (now() - interval 24 hour)\n",
    ") order by user_login, created_at"
   ]
  },
  {
   "cell_type": "code",
   "execution_count": 2,
   "id": "0c357216-b3a0-4e46-b220-c3693f3c1e93",
   "metadata": {},
   "outputs": [
    {
     "name": "stdout",
     "output_type": "stream",
     "text": [
      "Daily PRs 2022-09-10"
     ]
    }
   ],
   "source": [
    "$subject = (select 'Daily PRs ' || cast(today() as VARCHAR))"
   ]
  },
  {
   "cell_type": "code",
   "execution_count": 3,
   "id": "fad3c412-edcf-41b4-91aa-a9f2f7bc6889",
   "metadata": {},
   "outputs": [
    {
     "name": "stdout",
     "output_type": "stream",
     "text": [
      "Emailing prs__actualized to ['scottp@berkeleyzone.net', 'scott@tatari.tv']"
     ]
    }
   ],
   "source": [
    "email $prs to 'scottp@berkeleyzone.net,scott@tatari.tv' subject $subject"
   ]
  },
  {
   "cell_type": "code",
   "execution_count": 7,
   "id": "cac5c123-a47c-4de4-bdcd-306064174da5",
   "metadata": {},
   "outputs": [
    {
     "name": "stdout",
     "output_type": "stream",
     "text": [
      "Scheduled to run notebook daily_prs_email.ipynb"
     ]
    }
   ],
   "source": [
    "run every day starting at 08:20"
   ]
  },
  {
   "cell_type": "code",
   "execution_count": null,
   "id": "48caa07c-01a0-40e7-a8be-29af65076d4b",
   "metadata": {
    "tags": [
     "skip_commands"
    ]
   },
   "outputs": [],
   "source": []
  }
 ],
 "metadata": {
  "kernelspec": {
   "display_name": "Unify",
   "language": "text",
   "name": "unify_kernel"
  },
  "language_info": {
   "file_extension": ".txt",
   "mimetype": "text/plain",
   "name": "text"
  }
 },
 "nbformat": 4,
 "nbformat_minor": 5
}

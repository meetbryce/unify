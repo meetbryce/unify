{
 "cells": [
  {
   "cell_type": "markdown",
   "id": "595ce01f-4d6c-4379-b8c0-e66b6361647b",
   "metadata": {},
   "source": [
    "## Daily PR list"
   ]
  },
  {
   "cell_type": "code",
   "execution_count": 3,
   "id": "d6b104a5-ad70-4265-bb4c-c467d0bb6d37",
   "metadata": {},
   "outputs": [
    {
     "name": "stdout",
     "output_type": "stream",
     "text": [
      "8 rows"
     ]
    },
    {
     "data": {
      "text/html": [
       "<table border=\"1\" class=\"dataframe\">\n",
       "  <thead>\n",
       "    <tr style=\"text-align: right;\">\n",
       "      <th>number</th>\n",
       "      <th>head_repo_name</th>\n",
       "      <th>created_at</th>\n",
       "      <th>user_login</th>\n",
       "      <th>title</th>\n",
       "      <th>body</th>\n",
       "    </tr>\n",
       "  </thead>\n",
       "  <tbody>\n",
       "    <tr>\n",
       "      <td>4074</td>\n",
       "      <td>philo-fe</td>\n",
       "      <td>2022-08-24 07:03:50</td>\n",
       "      <td>glorp47</td>\n",
       "      <td>adding network / publisher option for breakout</td>\n",
       "      <td></td>\n",
       "    </tr>\n",
       "    <tr>\n",
       "      <td>750</td>\n",
       "      <td>helm-charts</td>\n",
       "      <td>2022-08-24 08:01:21</td>\n",
       "      <td>helloimowen</td>\n",
       "      <td>remove kafka-cdc datadog filter</td>\n",
       "      <td></td>\n",
       "    </tr>\n",
       "    <tr>\n",
       "      <td>8526</td>\n",
       "      <td>philo</td>\n",
       "      <td>2022-08-23 22:31:58</td>\n",
       "      <td>henryzhangsta</td>\n",
       "      <td>fix: do not hold Redshift lock for lift update after conversions import</td>\n",
       "      <td></td>\n",
       "    </tr>\n",
       "    <tr>\n",
       "      <td>751</td>\n",
       "      <td>helm-charts</td>\n",
       "      <td>2022-08-24 08:16:11</td>\n",
       "      <td>pshelby</td>\n",
       "      <td>Creating AWS-k8s service account for org-chart</td>\n",
       "      <td></td>\n",
       "    </tr>\n",
       "    <tr>\n",
       "      <td>50</td>\n",
       "      <td>some-testserver</td>\n",
       "      <td>2022-08-24 07:28:43</td>\n",
       "      <td>willis-tatari</td>\n",
       "      <td>tigger50</td>\n",
       "      <td></td>\n",
       "    </tr>\n",
       "    <tr>\n",
       "      <td>51</td>\n",
       "      <td>some-testserver</td>\n",
       "      <td>2022-08-24 07:36:20</td>\n",
       "      <td>willis-tatari</td>\n",
       "      <td>making sure ci create deployment happens before cd create deployment</td>\n",
       "      <td></td>\n",
       "    </tr>\n",
       "    <tr>\n",
       "      <td>52</td>\n",
       "      <td>some-testserver</td>\n",
       "      <td>2022-08-24 07:59:28</td>\n",
       "      <td>willis-tatari</td>\n",
       "      <td>race condition2</td>\n",
       "      <td></td>\n",
       "    </tr>\n",
       "    <tr>\n",
       "      <td>53</td>\n",
       "      <td>some-testserver</td>\n",
       "      <td>2022-08-24 08:40:08</td>\n",
       "      <td>willis-tatari</td>\n",
       "      <td>SRE 1502 - moved aciton into ci, passed int github token</td>\n",
       "      <td></td>\n",
       "    </tr>\n",
       "  </tbody>\n",
       "</table>"
      ],
      "text/plain": [
       " number  head_repo_name          created_at    user_login                                                                   title body\n",
       "   4074        philo-fe 2022-08-24 07:03:50       glorp47                          adding network / publisher option for breakout     \n",
       "    750     helm-charts 2022-08-24 08:01:21   helloimowen                                         remove kafka-cdc datadog filter     \n",
       "   8526           philo 2022-08-23 22:31:58 henryzhangsta fix: do not hold Redshift lock for lift update after conversions import     \n",
       "    751     helm-charts 2022-08-24 08:16:11       pshelby                          Creating AWS-k8s service account for org-chart     \n",
       "     50 some-testserver 2022-08-24 07:28:43 willis-tatari                                                                tigger50     \n",
       "     51 some-testserver 2022-08-24 07:36:20 willis-tatari    making sure ci create deployment happens before cd create deployment     \n",
       "     52 some-testserver 2022-08-24 07:59:28 willis-tatari                                                         race condition2     \n",
       "     53 some-testserver 2022-08-24 08:40:08 willis-tatari                SRE 1502 - moved aciton into ci, passed int github token     "
      ]
     },
     "metadata": {},
     "output_type": "display_data",
     "source": "kernel"
    }
   ],
   "source": [
    "$prs = select * from (\n",
    "  select number, head_repo_name, created_at, user_login, title, body from github.pulls \n",
    "  where created_at > (now() - interval 24 hour)\n",
    ") order by user_login, created_at"
   ]
  },
  {
   "cell_type": "code",
   "execution_count": 4,
   "id": "01a91bd7-a7b9-4bfc-8bb9-5a5209ce406f",
   "metadata": {},
   "outputs": [
    {
     "name": "stdout",
     "output_type": "stream",
     "text": [
      "Emailing prs__actualized to ['scottp@berkeleyzone.next']"
     ]
    }
   ],
   "source": [
    "email $prs to 'scottp@berkeleyzone.net' subject 'Daily PRs'"
   ]
  },
  {
   "cell_type": "code",
   "execution_count": 7,
   "id": "cac5c123-a47c-4de4-bdcd-306064174da5",
   "metadata": {},
   "outputs": [
    {
     "name": "stdout",
     "output_type": "stream",
     "text": [
      "Scheduled to run notebook daily_prs_email.ipynb"
     ]
    }
   ],
   "source": [
    "run every day starting at 09:00"
   ]
  },
  {
   "cell_type": "code",
   "execution_count": null,
   "id": "48caa07c-01a0-40e7-a8be-29af65076d4b",
   "metadata": {},
   "outputs": [],
   "source": []
  }
 ],
 "metadata": {
  "kernelspec": {
   "display_name": "Unify",
   "language": "text",
   "name": "unify_kernel"
  },
  "language_info": {
   "file_extension": ".txt",
   "mimetype": "text/plain",
   "name": "text"
  }
 },
 "nbformat": 4,
 "nbformat_minor": 5
}

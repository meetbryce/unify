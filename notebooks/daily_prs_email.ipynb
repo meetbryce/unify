{
 "cells": [
  {
   "cell_type": "markdown",
   "id": "595ce01f-4d6c-4379-b8c0-e66b6361647b",
   "metadata": {},
   "source": [
    "## Daily PR list"
   ]
  },
  {
   "cell_type": "code",
   "execution_count": 1,
   "id": "d6b104a5-ad70-4265-bb4c-c467d0bb6d37",
   "metadata": {},
   "outputs": [
    {
     "name": "stdout",
     "output_type": "stream",
     "text": [
      "15 rows"
     ]
    },
    {
     "data": {
      "text/html": [
       "<table border=\"1\" class=\"dataframe\">\n",
       "  <thead>\n",
       "    <tr style=\"text-align: right;\">\n",
       "      <th>number</th>\n",
       "      <th>head_repo_name</th>\n",
       "      <th>created_at</th>\n",
       "      <th>user_login</th>\n",
       "      <th>title</th>\n",
       "      <th>left_body__200_</th>\n",
       "    </tr>\n",
       "  </thead>\n",
       "  <tbody>\n",
       "    <tr>\n",
       "      <td>8657</td>\n",
       "      <td>philo</td>\n",
       "      <td>2022-09-06 15:10:31</td>\n",
       "      <td>dShah81</td>\n",
       "      <td><a href=\"https://github.com/tatari-tv/philo/pull/8657\">[AUD-1039] LEVEL0: Created a view for pulling the commissions rates and related info</a></td>\n",
       "      <td>\\r\\n# Summary\\r\\nCreating a view that will pull the related commissions data into a view. This will help with pulling the latest rates when requested from linear and streaming spend requests as well as fr</td>\n",
       "    </tr>\n",
       "    <tr>\n",
       "      <td>27</td>\n",
       "      <td>media-planning-engine</td>\n",
       "      <td>2022-09-07 02:38:11</td>\n",
       "      <td>dansc0de</td>\n",
       "      <td><a href=\"https://github.com/tatari-tv/media-planning-engine/pull/27\">alter index names in f_copy_idx</a></td>\n",
       "      <td></td>\n",
       "    </tr>\n",
       "    <tr>\n",
       "      <td>28</td>\n",
       "      <td>media-planning-engine</td>\n",
       "      <td>2022-09-07 03:48:12</td>\n",
       "      <td>dansc0de</td>\n",
       "      <td><a href=\"https://github.com/tatari-tv/media-planning-engine/pull/28\">Update f copy idx function to rename indexes</a></td>\n",
       "      <td></td>\n",
       "    </tr>\n",
       "    <tr>\n",
       "      <td>8658</td>\n",
       "      <td>philo</td>\n",
       "      <td>2022-09-06 15:19:17</td>\n",
       "      <td>dave-kimble</td>\n",
       "      <td><a href=\"https://github.com/tatari-tv/philo/pull/8658\">Revert \"PER-1397\"</a></td>\n",
       "      <td>Reverts tatari-tv/philo#8627</td>\n",
       "    </tr>\n",
       "    <tr>\n",
       "      <td>8656</td>\n",
       "      <td>philo</td>\n",
       "      <td>2022-09-06 14:54:14</td>\n",
       "      <td>georgegaytan</td>\n",
       "      <td><a href=\"https://github.com/tatari-tv/philo/pull/8656\">PROG-308/Add Playbook for Beeswax API errors</a></td>\n",
       "      <td># Summary\\r\\n[Slack alert for campaign send failure](https://tatari.atlassian.net/browse/PROG-308)\\r\\n\\r\\nHandled by setting up generic BW API playbook instead of have no playbook available for BW errors. A</td>\n",
       "    </tr>\n",
       "    <tr>\n",
       "      <td>67</td>\n",
       "      <td>tf-anomaly-detection</td>\n",
       "      <td>2022-09-06 17:07:08</td>\n",
       "      <td>henryzhangsta</td>\n",
       "      <td><a href=\"https://github.com/tatari-tv/tf-anomaly-detection/pull/67\">add ipython to enable dbx notebook usage</a></td>\n",
       "      <td>attempting to run cells in databricks throws this error to cluster STDOUT:\\r\\n\\r\\n```\\r\\nTraceback (most recent call last):\\r\\n  File \"/databricks/python_shell/scripts/PythonShell.py\", line 25, in <module>\\r\\n</td>\n",
       "    </tr>\n",
       "    <tr>\n",
       "      <td>68</td>\n",
       "      <td>tf-anomaly-detection</td>\n",
       "      <td>2022-09-06 18:56:11</td>\n",
       "      <td>henryzhangsta</td>\n",
       "      <td><a href=\"https://github.com/tatari-tv/tf-anomaly-detection/pull/68\">add more packages</a></td>\n",
       "      <td>- remove rest of submodule references/build steps\\r\\n- add more packages that are imported but not specified in poetry</td>\n",
       "    </tr>\n",
       "    <tr>\n",
       "      <td>2604</td>\n",
       "      <td>airflow-dags</td>\n",
       "      <td>2022-09-06 15:41:48</td>\n",
       "      <td>leah-z-liu</td>\n",
       "      <td><a href=\"https://github.com/tatari-tv/airflow-dags/pull/2604\">Powertools dag</a></td>\n",
       "      <td>Re-merging changes in this [pull request](https://github.com/tatari-tv/airflow-dags/pull/2571) because the changes in the previous pr somehow got removed.</td>\n",
       "    </tr>\n",
       "    <tr>\n",
       "      <td>783</td>\n",
       "      <td>helm-charts</td>\n",
       "      <td>2022-09-06 15:01:42</td>\n",
       "      <td>lrod</td>\n",
       "      <td><a href=\"https://github.com/tatari-tv/helm-charts/pull/783\">DAT-1016: restore snapshot mode to never</a></td>\n",
       "      <td>* restore snapshot mode to never so recreating the connector does not trigger initial</td>\n",
       "    </tr>\n",
       "    <tr>\n",
       "      <td>22</td>\n",
       "      <td>analytics-sql</td>\n",
       "      <td>2022-09-06 19:31:07</td>\n",
       "      <td>mikel-at-tatari</td>\n",
       "      <td><a href=\"https://github.com/tatari-tv/analytics-sql/pull/22\">APC-79 column ordering for linear_clearance</a></td>\n",
       "      <td>APC-79 this was reordered when the view was refactored</td>\n",
       "    </tr>\n",
       "    <tr>\n",
       "      <td>23</td>\n",
       "      <td>analytics-sql</td>\n",
       "      <td>2022-09-06 20:07:50</td>\n",
       "      <td>mikel-at-tatari</td>\n",
       "      <td><a href=\"https://github.com/tatari-tv/analytics-sql/pull/23\">APC-80 use full outer join to add spots without bookings on spend calculation</a></td>\n",
       "      <td>APC-80 use full outer join to add spots without bookings on spend calculation</td>\n",
       "    </tr>\n",
       "    <tr>\n",
       "      <td>4119</td>\n",
       "      <td>philo-fe</td>\n",
       "      <td>2022-09-06 15:19:14</td>\n",
       "      <td>moarwick</td>\n",
       "      <td><a href=\"https://github.com/tatari-tv/philo-fe/pull/4119\">[MBP-4778] Bugfix: Bulk actions minMax validator should apply to numeric values only</a></td>\n",
       "      <td></td>\n",
       "    </tr>\n",
       "    <tr>\n",
       "      <td>4120</td>\n",
       "      <td>philo-fe</td>\n",
       "      <td>2022-09-07 00:03:14</td>\n",
       "      <td>nkbelow</td>\n",
       "      <td><a href=\"https://github.com/tatari-tv/philo-fe/pull/4120\">DO NOT MERGE - Review app for R/F by Geo</a></td>\n",
       "      <td></td>\n",
       "    </tr>\n",
       "    <tr>\n",
       "      <td>38</td>\n",
       "      <td>deploy-tracker</td>\n",
       "      <td>2022-09-06 18:46:19</td>\n",
       "      <td>willis-tatari</td>\n",
       "      <td><a href=\"https://github.com/tatari-tv/deploy-tracker/pull/38\">fix ecr call</a></td>\n",
       "      <td></td>\n",
       "    </tr>\n",
       "    <tr>\n",
       "      <td>76</td>\n",
       "      <td>some-testserver</td>\n",
       "      <td>2022-09-06 18:58:10</td>\n",
       "      <td>willis-tatari</td>\n",
       "      <td><a href=\"https://github.com/tatari-tv/some-testserver/pull/76\">trigger201</a></td>\n",
       "      <td></td>\n",
       "    </tr>\n",
       "  </tbody>\n",
       "</table>"
      ],
      "text/plain": [
       " number        head_repo_name          created_at      user_login                                                                                                                                              title                                                                                                                                                                                                    left_body__200_\n",
       "   8657                 philo 2022-09-06 15:10:31         dShah81    <a href=\"https://github.com/tatari-tv/philo/pull/8657\">[AUD-1039] LEVEL0: Created a view for pulling the commissions rates and related info</a>       \\r\\n# Summary\\r\\nCreating a view that will pull the related commissions data into a view. This will help with pulling the latest rates when requested from linear and streaming spend requests as well as fr\n",
       "     27 media-planning-engine 2022-09-07 02:38:11        dansc0de                                           <a href=\"https://github.com/tatari-tv/media-planning-engine/pull/27\">alter index names in f_copy_idx</a>                                                                                                                                                                                                                   \n",
       "     28 media-planning-engine 2022-09-07 03:48:12        dansc0de                              <a href=\"https://github.com/tatari-tv/media-planning-engine/pull/28\">Update f copy idx function to rename indexes</a>                                                                                                                                                                                                                   \n",
       "   8658                 philo 2022-09-06 15:19:17     dave-kimble                                                                       <a href=\"https://github.com/tatari-tv/philo/pull/8658\">Revert \"PER-1397\"</a>                                                                                                                                                                                       Reverts tatari-tv/philo#8627\n",
       "   8656                 philo 2022-09-06 14:54:14    georgegaytan                                            <a href=\"https://github.com/tatari-tv/philo/pull/8656\">PROG-308/Add Playbook for Beeswax API errors</a>     # Summary\\r\\n[Slack alert for campaign send failure](https://tatari.atlassian.net/browse/PROG-308)\\r\\n\\r\\nHandled by setting up generic BW API playbook instead of have no playbook available for BW errors. A\n",
       "     67  tf-anomaly-detection 2022-09-06 17:07:08   henryzhangsta                                   <a href=\"https://github.com/tatari-tv/tf-anomaly-detection/pull/67\">add ipython to enable dbx notebook usage</a> attempting to run cells in databricks throws this error to cluster STDOUT:\\r\\n\\r\\n```\\r\\nTraceback (most recent call last):\\r\\n  File \"/databricks/python_shell/scripts/PythonShell.py\", line 25, in <module>\\r\\n \n",
       "     68  tf-anomaly-detection 2022-09-06 18:56:11   henryzhangsta                                                          <a href=\"https://github.com/tatari-tv/tf-anomaly-detection/pull/68\">add more packages</a>                                                                                             - remove rest of submodule references/build steps\\r\\n- add more packages that are imported but not specified in poetry\n",
       "   2604          airflow-dags 2022-09-06 15:41:48      leah-z-liu                                                                   <a href=\"https://github.com/tatari-tv/airflow-dags/pull/2604\">Powertools dag</a>                                                         Re-merging changes in this [pull request](https://github.com/tatari-tv/airflow-dags/pull/2571) because the changes in the previous pr somehow got removed.\n",
       "    783           helm-charts 2022-09-06 15:01:42            lrod                                           <a href=\"https://github.com/tatari-tv/helm-charts/pull/783\">DAT-1016: restore snapshot mode to never</a>                                                                                                                             * restore snapshot mode to never so recreating the connector does not trigger initial \n",
       "     22         analytics-sql 2022-09-06 19:31:07 mikel-at-tatari                                       <a href=\"https://github.com/tatari-tv/analytics-sql/pull/22\">APC-79 column ordering for linear_clearance</a>                                                                                                                                                             APC-79 this was reordered when the view was refactored\n",
       "     23         analytics-sql 2022-09-06 20:07:50 mikel-at-tatari     <a href=\"https://github.com/tatari-tv/analytics-sql/pull/23\">APC-80 use full outer join to add spots without bookings on spend calculation</a>                                                                                                                                      APC-80 use full outer join to add spots without bookings on spend calculation\n",
       "   4119              philo-fe 2022-09-06 15:19:14        moarwick <a href=\"https://github.com/tatari-tv/philo-fe/pull/4119\">[MBP-4778] Bugfix: Bulk actions minMax validator should apply to numeric values only</a>                                                                                                                                                                                                                   \n",
       "   4120              philo-fe 2022-09-07 00:03:14         nkbelow                                             <a href=\"https://github.com/tatari-tv/philo-fe/pull/4120\">DO NOT MERGE - Review app for R/F by Geo</a>                                                                                                                                                                                                                   \n",
       "     38        deploy-tracker 2022-09-06 18:46:19   willis-tatari                                                                     <a href=\"https://github.com/tatari-tv/deploy-tracker/pull/38\">fix ecr call</a>                                                                                                                                                                                                                   \n",
       "     76       some-testserver 2022-09-06 18:58:10   willis-tatari                                                                      <a href=\"https://github.com/tatari-tv/some-testserver/pull/76\">trigger201</a>                                                                                                                                                                                                                   "
      ]
     },
     "metadata": {},
     "output_type": "display_data",
     "source": "kernel"
    }
   ],
   "source": [
    "$prs = select * from (\n",
    "  select number, head_repo_name, created_at, user_login, ('<a href=\"' || html_url || '\">' || title || '</a>') as title, left(body, 200) from github.pulls \n",
    "  where created_at > (now() - interval 24 hour)\n",
    ") order by user_login, created_at"
   ]
  },
  {
   "cell_type": "code",
   "execution_count": 2,
   "id": "0c357216-b3a0-4e46-b220-c3693f3c1e93",
   "metadata": {},
   "outputs": [
    {
     "name": "stdout",
     "output_type": "stream",
     "text": [
      "Daily PRs 2022-09-07"
     ]
    }
   ],
   "source": [
    "$subject = (select 'Daily PRs ' || cast(today() as VARCHAR))"
   ]
  },
  {
   "cell_type": "code",
   "execution_count": 3,
   "id": "fad3c412-edcf-41b4-91aa-a9f2f7bc6889",
   "metadata": {},
   "outputs": [
    {
     "name": "stdout",
     "output_type": "stream",
     "text": [
      "Emailing prs__actualized to ['scottp@berkeleyzone.net', 'scott@tatari.tv']"
     ]
    }
   ],
   "source": [
    "email $prs to 'scottp@berkeleyzone.net,scott@tatari.tv' subject $subject"
   ]
  },
  {
   "cell_type": "code",
   "execution_count": 4,
   "id": "cac5c123-a47c-4de4-bdcd-306064174da5",
   "metadata": {},
   "outputs": [
    {
     "name": "stdout",
     "output_type": "stream",
     "text": [
      "Scheduled to run notebook daily_prs_email.ipynb"
     ]
    }
   ],
   "source": [
    "run every day starting at 08:20"
   ]
  },
  {
   "cell_type": "code",
   "execution_count": null,
   "id": "48caa07c-01a0-40e7-a8be-29af65076d4b",
   "metadata": {
    "tags": [
     "skip_commands"
    ]
   },
   "outputs": [],
   "source": []
  }
 ],
 "metadata": {
  "kernelspec": {
   "display_name": "Unify",
   "language": "text",
   "name": "unify_kernel"
  },
  "language_info": {
   "file_extension": ".txt",
   "mimetype": "text/plain",
   "name": "text"
  }
 },
 "nbformat": 4,
 "nbformat_minor": 5
}

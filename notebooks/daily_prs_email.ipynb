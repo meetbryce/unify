{
 "cells": [
  {
   "cell_type": "markdown",
   "id": "595ce01f-4d6c-4379-b8c0-e66b6361647b",
   "metadata": {},
   "source": [
    "## Daily PR list"
   ]
  },
  {
   "cell_type": "code",
   "execution_count": 1,
   "id": "d6b104a5-ad70-4265-bb4c-c467d0bb6d37",
   "metadata": {},
   "outputs": [
    {
     "name": "stdout",
     "output_type": "stream",
     "text": [
      "10 rows"
     ]
    },
    {
     "data": {
      "text/html": [
       "<table border=\"1\" class=\"dataframe\">\n",
       "  <thead>\n",
       "    <tr style=\"text-align: right;\">\n",
       "      <th>number</th>\n",
       "      <th>head_repo_name</th>\n",
       "      <th>created_at</th>\n",
       "      <th>user_login</th>\n",
       "      <th>title</th>\n",
       "      <th>body</th>\n",
       "    </tr>\n",
       "  </thead>\n",
       "  <tbody>\n",
       "    <tr>\n",
       "      <td>10</td>\n",
       "      <td>media-planning-engine</td>\n",
       "      <td>2022-08-24 19:42:00</td>\n",
       "      <td>brandon733t</td>\n",
       "      <td>MINT-109 add cp module</td>\n",
       "      <td></td>\n",
       "    </tr>\n",
       "    <tr>\n",
       "      <td>2539</td>\n",
       "      <td>airflow-dags</td>\n",
       "      <td>2022-08-24 20:03:45</td>\n",
       "      <td>brandon733t</td>\n",
       "      <td>MINT-109 clearance pred module</td>\n",
       "      <td></td>\n",
       "    </tr>\n",
       "    <tr>\n",
       "      <td>2541</td>\n",
       "      <td>airflow-dags</td>\n",
       "      <td>2022-08-25 07:25:54</td>\n",
       "      <td>byingyang</td>\n",
       "      <td>Mint 60 staging</td>\n",
       "      <td></td>\n",
       "    </tr>\n",
       "    <tr>\n",
       "      <td>1187</td>\n",
       "      <td>terraform</td>\n",
       "      <td>2022-08-25 08:41:07</td>\n",
       "      <td>dansc0de</td>\n",
       "      <td>add s3-loader role to MPE staging db</td>\n",
       "      <td></td>\n",
       "    </tr>\n",
       "    <tr>\n",
       "      <td>1710</td>\n",
       "      <td>grey-matter</td>\n",
       "      <td>2022-08-24 19:47:50</td>\n",
       "      <td>ellen-x</td>\n",
       "      <td>TRA: updated log</td>\n",
       "      <td></td>\n",
       "    </tr>\n",
       "    <tr>\n",
       "      <td>1711</td>\n",
       "      <td>grey-matter</td>\n",
       "      <td>2022-08-24 20:17:35</td>\n",
       "      <td>ellen-x</td>\n",
       "      <td>TRA-hotfix-output</td>\n",
       "      <td></td>\n",
       "    </tr>\n",
       "    <tr>\n",
       "      <td>2540</td>\n",
       "      <td>airflow-dags</td>\n",
       "      <td>2022-08-24 22:26:24</td>\n",
       "      <td>ellen-x</td>\n",
       "      <td>RAD-17232: TRA-test-DAG</td>\n",
       "      <td></td>\n",
       "    </tr>\n",
       "    <tr>\n",
       "      <td>755</td>\n",
       "      <td>helm-charts</td>\n",
       "      <td>2022-08-25 07:26:56</td>\n",
       "      <td>lrod</td>\n",
       "      <td>dat-1062: fix topics.dir</td>\n",
       "      <td></td>\n",
       "    </tr>\n",
       "    <tr>\n",
       "      <td>756</td>\n",
       "      <td>helm-charts</td>\n",
       "      <td>2022-08-25 07:41:52</td>\n",
       "      <td>pshelby</td>\n",
       "      <td>SRE-1406 / Prod org-chart serviceaccount</td>\n",
       "      <td></td>\n",
       "    </tr>\n",
       "    <tr>\n",
       "      <td>63</td>\n",
       "      <td>tf-anomaly-detection</td>\n",
       "      <td>2022-08-24 19:53:28</td>\n",
       "      <td>robkwark</td>\n",
       "      <td>[RAD-14495] New bucket paths</td>\n",
       "      <td></td>\n",
       "    </tr>\n",
       "  </tbody>\n",
       "</table>"
      ],
      "text/plain": [
       " number        head_repo_name          created_at  user_login                                    title body\n",
       "     10 media-planning-engine 2022-08-24 19:42:00 brandon733t                   MINT-109 add cp module     \n",
       "   2539          airflow-dags 2022-08-24 20:03:45 brandon733t           MINT-109 clearance pred module     \n",
       "   2541          airflow-dags 2022-08-25 07:25:54   byingyang                          Mint 60 staging     \n",
       "   1187             terraform 2022-08-25 08:41:07    dansc0de     add s3-loader role to MPE staging db     \n",
       "   1710           grey-matter 2022-08-24 19:47:50     ellen-x                         TRA: updated log     \n",
       "   1711           grey-matter 2022-08-24 20:17:35     ellen-x                        TRA-hotfix-output     \n",
       "   2540          airflow-dags 2022-08-24 22:26:24     ellen-x                  RAD-17232: TRA-test-DAG     \n",
       "    755           helm-charts 2022-08-25 07:26:56        lrod                 dat-1062: fix topics.dir     \n",
       "    756           helm-charts 2022-08-25 07:41:52     pshelby SRE-1406 / Prod org-chart serviceaccount     \n",
       "     63  tf-anomaly-detection 2022-08-24 19:53:28    robkwark             [RAD-14495] New bucket paths     "
      ]
     },
     "metadata": {},
     "output_type": "display_data",
     "source": "kernel"
    }
   ],
   "source": [
    "$prs = select * from (\n",
    "  select number, head_repo_name, created_at, user_login, title, body from github.pulls \n",
    "  where created_at > (now() - interval 24 hour)\n",
    ") order by user_login, created_at"
   ]
  },
  {
   "cell_type": "markdown",
   "id": "bc6a61fe-2c6e-4361-950d-4fa61d925138",
   "metadata": {},
   "source": [
    "email $prs to 'scottp@berkeleyzone.net' subject 'Daily PRs'"
   ]
  },
  {
   "cell_type": "code",
   "execution_count": 2,
   "id": "cac5c123-a47c-4de4-bdcd-306064174da5",
   "metadata": {},
   "outputs": [
    {
     "name": "stdout",
     "output_type": "stream",
     "text": [
      "Scheduled to run notebook daily_prs_email.ipynb"
     ]
    }
   ],
   "source": [
    "run every day starting at 12:00"
   ]
  },
  {
   "cell_type": "code",
   "execution_count": null,
   "id": "48caa07c-01a0-40e7-a8be-29af65076d4b",
   "metadata": {
    "tags": [
     "skip_commands"
    ]
   },
   "outputs": [],
   "source": []
  }
 ],
 "metadata": {
  "kernelspec": {
   "display_name": "Unify",
   "language": "text",
   "name": "unify_kernel"
  },
  "language_info": {
   "file_extension": ".txt",
   "mimetype": "text/plain",
   "name": "text"
  }
 },
 "nbformat": 4,
 "nbformat_minor": 5
}
